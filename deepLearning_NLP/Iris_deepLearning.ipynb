{
 "cells": [
  {
   "cell_type": "code",
   "execution_count": 60,
   "id": "5997402e-0b06-4a19-85ff-8be4af12b623",
   "metadata": {},
   "outputs": [],
   "source": [
    "import numpy as np\n",
    "from sklearn.datasets import load_iris\n",
    "import tensorflow as tf"
   ]
  },
  {
   "cell_type": "code",
   "execution_count": 61,
   "id": "5e885083-5929-444a-a2d4-2ea4f6ee789c",
   "metadata": {},
   "outputs": [
    {
     "data": {
      "text/plain": [
       "sklearn.utils.Bunch"
      ]
     },
     "execution_count": 61,
     "metadata": {},
     "output_type": "execute_result"
    }
   ],
   "source": [
    "iris = load_iris()\n",
    "type(iris)"
   ]
  },
  {
   "cell_type": "code",
   "execution_count": 62,
   "id": "f54a72ad-0e6f-48f7-8aa5-081986ed6293",
   "metadata": {},
   "outputs": [
    {
     "name": "stdout",
     "output_type": "stream",
     "text": [
      ".. _iris_dataset:\n",
      "\n",
      "Iris plants dataset\n",
      "--------------------\n",
      "\n",
      "**Data Set Characteristics:**\n",
      "\n",
      "    :Number of Instances: 150 (50 in each of three classes)\n",
      "    :Number of Attributes: 4 numeric, predictive attributes and the class\n",
      "    :Attribute Information:\n",
      "        - sepal length in cm\n",
      "        - sepal width in cm\n",
      "        - petal length in cm\n",
      "        - petal width in cm\n",
      "        - class:\n",
      "                - Iris-Setosa\n",
      "                - Iris-Versicolour\n",
      "                - Iris-Virginica\n",
      "                \n",
      "    :Summary Statistics:\n",
      "\n",
      "    ============== ==== ==== ======= ===== ====================\n",
      "                    Min  Max   Mean    SD   Class Correlation\n",
      "    ============== ==== ==== ======= ===== ====================\n",
      "    sepal length:   4.3  7.9   5.84   0.83    0.7826\n",
      "    sepal width:    2.0  4.4   3.05   0.43   -0.4194\n",
      "    petal length:   1.0  6.9   3.76   1.76    0.9490  (high!)\n",
      "    petal width:    0.1  2.5   1.20   0.76    0.9565  (high!)\n",
      "    ============== ==== ==== ======= ===== ====================\n",
      "\n",
      "    :Missing Attribute Values: None\n",
      "    :Class Distribution: 33.3% for each of 3 classes.\n",
      "    :Creator: R.A. Fisher\n",
      "    :Donor: Michael Marshall (MARSHALL%PLU@io.arc.nasa.gov)\n",
      "    :Date: July, 1988\n",
      "\n",
      "The famous Iris database, first used by Sir R.A. Fisher. The dataset is taken\n",
      "from Fisher's paper. Note that it's the same as in R, but not as in the UCI\n",
      "Machine Learning Repository, which has two wrong data points.\n",
      "\n",
      "This is perhaps the best known database to be found in the\n",
      "pattern recognition literature.  Fisher's paper is a classic in the field and\n",
      "is referenced frequently to this day.  (See Duda & Hart, for example.)  The\n",
      "data set contains 3 classes of 50 instances each, where each class refers to a\n",
      "type of iris plant.  One class is linearly separable from the other 2; the\n",
      "latter are NOT linearly separable from each other.\n",
      "\n",
      ".. topic:: References\n",
      "\n",
      "   - Fisher, R.A. \"The use of multiple measurements in taxonomic problems\"\n",
      "     Annual Eugenics, 7, Part II, 179-188 (1936); also in \"Contributions to\n",
      "     Mathematical Statistics\" (John Wiley, NY, 1950).\n",
      "   - Duda, R.O., & Hart, P.E. (1973) Pattern Classification and Scene Analysis.\n",
      "     (Q327.D83) John Wiley & Sons.  ISBN 0-471-22361-1.  See page 218.\n",
      "   - Dasarathy, B.V. (1980) \"Nosing Around the Neighborhood: A New System\n",
      "     Structure and Classification Rule for Recognition in Partially Exposed\n",
      "     Environments\".  IEEE Transactions on Pattern Analysis and Machine\n",
      "     Intelligence, Vol. PAMI-2, No. 1, 67-71.\n",
      "   - Gates, G.W. (1972) \"The Reduced Nearest Neighbor Rule\".  IEEE Transactions\n",
      "     on Information Theory, May 1972, 431-433.\n",
      "   - See also: 1988 MLC Proceedings, 54-64.  Cheeseman et al\"s AUTOCLASS II\n",
      "     conceptual clustering system finds 3 classes in the data.\n",
      "   - Many, many more ...\n"
     ]
    }
   ],
   "source": [
    "print(iris.DESCR)"
   ]
  },
  {
   "cell_type": "code",
   "execution_count": 63,
   "id": "9c7129e4-bccb-488b-82f5-c57a88f3a375",
   "metadata": {},
   "outputs": [],
   "source": [
    "X = iris.data\n",
    "y = iris.target"
   ]
  },
  {
   "cell_type": "code",
   "execution_count": 64,
   "id": "60e339f6-03a8-453f-b799-219abb39849a",
   "metadata": {},
   "outputs": [
    {
     "data": {
      "text/plain": [
       "array([0, 0, 0, 0, 0, 0, 0, 0, 0, 0, 0, 0, 0, 0, 0, 0, 0, 0, 0, 0, 0, 0,\n",
       "       0, 0, 0, 0, 0, 0, 0, 0, 0, 0, 0, 0, 0, 0, 0, 0, 0, 0, 0, 0, 0, 0,\n",
       "       0, 0, 0, 0, 0, 0, 1, 1, 1, 1, 1, 1, 1, 1, 1, 1, 1, 1, 1, 1, 1, 1,\n",
       "       1, 1, 1, 1, 1, 1, 1, 1, 1, 1, 1, 1, 1, 1, 1, 1, 1, 1, 1, 1, 1, 1,\n",
       "       1, 1, 1, 1, 1, 1, 1, 1, 1, 1, 1, 1, 2, 2, 2, 2, 2, 2, 2, 2, 2, 2,\n",
       "       2, 2, 2, 2, 2, 2, 2, 2, 2, 2, 2, 2, 2, 2, 2, 2, 2, 2, 2, 2, 2, 2,\n",
       "       2, 2, 2, 2, 2, 2, 2, 2, 2, 2, 2, 2, 2, 2, 2, 2, 2, 2])"
      ]
     },
     "execution_count": 64,
     "metadata": {},
     "output_type": "execute_result"
    }
   ],
   "source": [
    "y"
   ]
  },
  {
   "cell_type": "markdown",
   "id": "329dc155-8f7d-4846-90fc-ee26e3744c8b",
   "metadata": {},
   "source": [
    "#### One hot encode the target"
   ]
  },
  {
   "cell_type": "code",
   "execution_count": 65,
   "id": "b592cda1-b9f7-4d32-8291-5d81ca3769d0",
   "metadata": {},
   "outputs": [],
   "source": [
    "import tensorflow as tf\n",
    "from tensorflow.keras.utils import to_categorical\n",
    "y = to_categorical(y)"
   ]
  },
  {
   "cell_type": "code",
   "execution_count": 66,
   "id": "d6c48a07-d6ca-4d67-9510-6a6532186952",
   "metadata": {},
   "outputs": [
    {
     "data": {
      "text/plain": [
       "array([[1., 0., 0.],\n",
       "       [1., 0., 0.],\n",
       "       [1., 0., 0.],\n",
       "       [1., 0., 0.],\n",
       "       [1., 0., 0.]], dtype=float32)"
      ]
     },
     "execution_count": 66,
     "metadata": {},
     "output_type": "execute_result"
    }
   ],
   "source": [
    "y[:5]"
   ]
  },
  {
   "cell_type": "code",
   "execution_count": 67,
   "id": "de13a3ff-d396-471d-8ee3-d897c5dd122b",
   "metadata": {},
   "outputs": [
    {
     "data": {
      "text/plain": [
       "(150, 3)"
      ]
     },
     "execution_count": 67,
     "metadata": {},
     "output_type": "execute_result"
    }
   ],
   "source": [
    "y.shape"
   ]
  },
  {
   "cell_type": "code",
   "execution_count": 68,
   "id": "69b980ee-3e6b-45a3-b153-134b8e0c9d93",
   "metadata": {},
   "outputs": [],
   "source": [
    "from sklearn.model_selection import train_test_split\n",
    "X_train,X_test,y_train,y_test = train_test_split(X,y,test_size = 0.33, random_state = 42)"
   ]
  },
  {
   "cell_type": "code",
   "execution_count": 69,
   "id": "3564b22a-efdf-4839-9a60-6dbd559c6e4e",
   "metadata": {},
   "outputs": [
    {
     "name": "stdout",
     "output_type": "stream",
     "text": [
      "X_train [[5.7 2.9 4.2 1.3]\n",
      " [7.6 3.  6.6 2.1]\n",
      " [5.6 3.  4.5 1.5]\n",
      " [5.1 3.5 1.4 0.2]\n",
      " [7.7 2.8 6.7 2. ]]\n",
      "X_test [[6.1 2.8 4.7 1.2]\n",
      " [5.7 3.8 1.7 0.3]\n",
      " [7.7 2.6 6.9 2.3]\n",
      " [6.  2.9 4.5 1.5]\n",
      " [6.8 2.8 4.8 1.4]]\n"
     ]
    }
   ],
   "source": [
    "print('X_train',X_train[:5])\n",
    "print('X_test',X_test[:5])"
   ]
  },
  {
   "cell_type": "code",
   "execution_count": 70,
   "id": "5d5db1b7-09de-4ac5-a62f-d4ed68e1a776",
   "metadata": {},
   "outputs": [
    {
     "name": "stdout",
     "output_type": "stream",
     "text": [
      "y_train [[0. 1. 0.]\n",
      " [0. 0. 1.]\n",
      " [0. 1. 0.]\n",
      " [1. 0. 0.]\n",
      " [0. 0. 1.]]\n",
      "y_test [[0. 1. 0.]\n",
      " [1. 0. 0.]\n",
      " [0. 0. 1.]\n",
      " [0. 1. 0.]\n",
      " [0. 1. 0.]]\n"
     ]
    }
   ],
   "source": [
    "print('y_train',y_train[:5])\n",
    "print('y_test',y_test[:5])"
   ]
  },
  {
   "cell_type": "code",
   "execution_count": 71,
   "id": "58817d1a-1a34-4022-be07-e1e8fe556a13",
   "metadata": {},
   "outputs": [],
   "source": [
    "from sklearn.preprocessing import MinMaxScaler\n",
    "scaler_object = MinMaxScaler()\n",
    "scaled_X_train = scaler_object.fit_transform(X_train)"
   ]
  },
  {
   "cell_type": "code",
   "execution_count": 72,
   "id": "97eba932-6b86-425c-856b-c6b8ad0e7e7f",
   "metadata": {},
   "outputs": [],
   "source": [
    "scaled_X_test = scaler_object.fit_transform(X_test)"
   ]
  },
  {
   "cell_type": "code",
   "execution_count": 73,
   "id": "934bcb59-695d-40da-885b-44ee35688af5",
   "metadata": {},
   "outputs": [
    {
     "data": {
      "text/plain": [
       "array([[0.41176471, 0.40909091, 0.55357143, 0.5       ],\n",
       "       [0.97058824, 0.45454545, 0.98214286, 0.83333333],\n",
       "       [0.38235294, 0.45454545, 0.60714286, 0.58333333],\n",
       "       [0.23529412, 0.68181818, 0.05357143, 0.04166667],\n",
       "       [1.        , 0.36363636, 1.        , 0.79166667]])"
      ]
     },
     "execution_count": 73,
     "metadata": {},
     "output_type": "execute_result"
    }
   ],
   "source": [
    "scaled_X_train[:5]"
   ]
  },
  {
   "cell_type": "markdown",
   "id": "b4fee623-687b-4751-9a7e-729fa780c266",
   "metadata": {},
   "source": [
    "### Build the network"
   ]
  },
  {
   "cell_type": "code",
   "execution_count": 74,
   "id": "1b429938-77bb-498c-a22a-54b264ffad0a",
   "metadata": {},
   "outputs": [],
   "source": [
    "from tensorflow.keras.models import Sequential\n",
    "from tensorflow.keras.layers import Dense\n",
    "\n"
   ]
  },
  {
   "cell_type": "code",
   "execution_count": 75,
   "id": "80d48316-ca26-48be-a8e2-c6807495c83a",
   "metadata": {},
   "outputs": [],
   "source": [
    "model = Sequential()\n",
    "model.add(Dense(8,input_dim=4,activation='relu'))\n",
    "model.add(Dense(8,input_dim=4,activation='relu'))\n",
    "model.add(Dense(3,activation='softmax'))\n",
    "model.compile(loss='categorical_crossentropy',optimizer = 'adam',metrics=['accuracy'])"
   ]
  },
  {
   "cell_type": "code",
   "execution_count": 76,
   "id": "2cea945b-cd1f-4bcb-a2f7-f4616b766811",
   "metadata": {},
   "outputs": [
    {
     "name": "stdout",
     "output_type": "stream",
     "text": [
      "Model: \"sequential_3\"\n",
      "_________________________________________________________________\n",
      "Layer (type)                 Output Shape              Param #   \n",
      "=================================================================\n",
      "dense_9 (Dense)              (None, 8)                 40        \n",
      "_________________________________________________________________\n",
      "dense_10 (Dense)             (None, 8)                 72        \n",
      "_________________________________________________________________\n",
      "dense_11 (Dense)             (None, 3)                 27        \n",
      "=================================================================\n",
      "Total params: 139\n",
      "Trainable params: 139\n",
      "Non-trainable params: 0\n",
      "_________________________________________________________________\n"
     ]
    }
   ],
   "source": [
    "model.summary()"
   ]
  },
  {
   "cell_type": "code",
   "execution_count": 77,
   "id": "b24c30e4-d9b6-4e24-85f0-fa0473394fec",
   "metadata": {
    "collapsed": true,
    "jupyter": {
     "outputs_hidden": true
    },
    "tags": []
   },
   "outputs": [
    {
     "name": "stdout",
     "output_type": "stream",
     "text": [
      "Epoch 1/150\n",
      "4/4 - 0s - loss: 1.0655 - accuracy: 0.3400\n",
      "Epoch 2/150\n",
      "4/4 - 0s - loss: 1.0593 - accuracy: 0.3400\n",
      "Epoch 3/150\n",
      "4/4 - 0s - loss: 1.0540 - accuracy: 0.3400\n",
      "Epoch 4/150\n",
      "4/4 - 0s - loss: 1.0488 - accuracy: 0.3500\n",
      "Epoch 5/150\n",
      "4/4 - 0s - loss: 1.0440 - accuracy: 0.3500\n",
      "Epoch 6/150\n",
      "4/4 - 0s - loss: 1.0398 - accuracy: 0.3600\n",
      "Epoch 7/150\n",
      "4/4 - 0s - loss: 1.0360 - accuracy: 0.3600\n",
      "Epoch 8/150\n",
      "4/4 - 0s - loss: 1.0312 - accuracy: 0.3600\n",
      "Epoch 9/150\n",
      "4/4 - 0s - loss: 1.0267 - accuracy: 0.3600\n",
      "Epoch 10/150\n",
      "4/4 - 0s - loss: 1.0224 - accuracy: 0.3800\n",
      "Epoch 11/150\n",
      "4/4 - 0s - loss: 1.0180 - accuracy: 0.3800\n",
      "Epoch 12/150\n",
      "4/4 - 0s - loss: 1.0132 - accuracy: 0.3800\n",
      "Epoch 13/150\n",
      "4/4 - 0s - loss: 1.0079 - accuracy: 0.4000\n",
      "Epoch 14/150\n",
      "4/4 - 0s - loss: 1.0027 - accuracy: 0.4400\n",
      "Epoch 15/150\n",
      "4/4 - 0s - loss: 0.9975 - accuracy: 0.5000\n",
      "Epoch 16/150\n",
      "4/4 - 0s - loss: 0.9923 - accuracy: 0.5500\n",
      "Epoch 17/150\n",
      "4/4 - 0s - loss: 0.9869 - accuracy: 0.5800\n",
      "Epoch 18/150\n",
      "4/4 - 0s - loss: 0.9817 - accuracy: 0.5900\n",
      "Epoch 19/150\n",
      "4/4 - 0s - loss: 0.9758 - accuracy: 0.6000\n",
      "Epoch 20/150\n",
      "4/4 - 0s - loss: 0.9698 - accuracy: 0.6200\n",
      "Epoch 21/150\n",
      "4/4 - 0s - loss: 0.9636 - accuracy: 0.6200\n",
      "Epoch 22/150\n",
      "4/4 - 0s - loss: 0.9568 - accuracy: 0.6200\n",
      "Epoch 23/150\n",
      "4/4 - 0s - loss: 0.9504 - accuracy: 0.6300\n",
      "Epoch 24/150\n",
      "4/4 - 0s - loss: 0.9436 - accuracy: 0.6400\n",
      "Epoch 25/150\n",
      "4/4 - 0s - loss: 0.9366 - accuracy: 0.6500\n",
      "Epoch 26/150\n",
      "4/4 - 0s - loss: 0.9290 - accuracy: 0.6600\n",
      "Epoch 27/150\n",
      "4/4 - 0s - loss: 0.9213 - accuracy: 0.6700\n",
      "Epoch 28/150\n",
      "4/4 - 0s - loss: 0.9131 - accuracy: 0.6900\n",
      "Epoch 29/150\n",
      "4/4 - 0s - loss: 0.9040 - accuracy: 0.6900\n",
      "Epoch 30/150\n",
      "4/4 - 0s - loss: 0.8946 - accuracy: 0.6900\n",
      "Epoch 31/150\n",
      "4/4 - 0s - loss: 0.8852 - accuracy: 0.6900\n",
      "Epoch 32/150\n",
      "4/4 - 0s - loss: 0.8757 - accuracy: 0.6900\n",
      "Epoch 33/150\n",
      "4/4 - 0s - loss: 0.8661 - accuracy: 0.6900\n",
      "Epoch 34/150\n",
      "4/4 - 0s - loss: 0.8559 - accuracy: 0.6900\n",
      "Epoch 35/150\n",
      "4/4 - 0s - loss: 0.8462 - accuracy: 0.6900\n",
      "Epoch 36/150\n",
      "4/4 - 0s - loss: 0.8362 - accuracy: 0.6900\n",
      "Epoch 37/150\n",
      "4/4 - 0s - loss: 0.8261 - accuracy: 0.6900\n",
      "Epoch 38/150\n",
      "4/4 - 0s - loss: 0.8161 - accuracy: 0.6900\n",
      "Epoch 39/150\n",
      "4/4 - 0s - loss: 0.8059 - accuracy: 0.6900\n",
      "Epoch 40/150\n",
      "4/4 - 0s - loss: 0.7961 - accuracy: 0.7200\n",
      "Epoch 41/150\n",
      "4/4 - 0s - loss: 0.7858 - accuracy: 0.7400\n",
      "Epoch 42/150\n",
      "4/4 - 0s - loss: 0.7757 - accuracy: 0.7400\n",
      "Epoch 43/150\n",
      "4/4 - 0s - loss: 0.7651 - accuracy: 0.7400\n",
      "Epoch 44/150\n",
      "4/4 - 0s - loss: 0.7547 - accuracy: 0.7400\n",
      "Epoch 45/150\n",
      "4/4 - 0s - loss: 0.7441 - accuracy: 0.7400\n",
      "Epoch 46/150\n",
      "4/4 - 0s - loss: 0.7340 - accuracy: 0.7400\n",
      "Epoch 47/150\n",
      "4/4 - 0s - loss: 0.7236 - accuracy: 0.7400\n",
      "Epoch 48/150\n",
      "4/4 - 0s - loss: 0.7140 - accuracy: 0.7400\n",
      "Epoch 49/150\n",
      "4/4 - 0s - loss: 0.7035 - accuracy: 0.7400\n",
      "Epoch 50/150\n",
      "4/4 - 0s - loss: 0.6937 - accuracy: 0.7400\n",
      "Epoch 51/150\n",
      "4/4 - 0s - loss: 0.6841 - accuracy: 0.7400\n",
      "Epoch 52/150\n",
      "4/4 - 0s - loss: 0.6741 - accuracy: 0.7400\n",
      "Epoch 53/150\n",
      "4/4 - 0s - loss: 0.6642 - accuracy: 0.7400\n",
      "Epoch 54/150\n",
      "4/4 - 0s - loss: 0.6547 - accuracy: 0.7400\n",
      "Epoch 55/150\n",
      "4/4 - 0s - loss: 0.6451 - accuracy: 0.7500\n",
      "Epoch 56/150\n",
      "4/4 - 0s - loss: 0.6360 - accuracy: 0.7500\n",
      "Epoch 57/150\n",
      "4/4 - 0s - loss: 0.6269 - accuracy: 0.7500\n",
      "Epoch 58/150\n",
      "4/4 - 0s - loss: 0.6182 - accuracy: 0.7500\n",
      "Epoch 59/150\n",
      "4/4 - 0s - loss: 0.6103 - accuracy: 0.7500\n",
      "Epoch 60/150\n",
      "4/4 - 0s - loss: 0.6025 - accuracy: 0.7400\n",
      "Epoch 61/150\n",
      "4/4 - 0s - loss: 0.5944 - accuracy: 0.7500\n",
      "Epoch 62/150\n",
      "4/4 - 0s - loss: 0.5857 - accuracy: 0.7500\n",
      "Epoch 63/150\n",
      "4/4 - 0s - loss: 0.5781 - accuracy: 0.7700\n",
      "Epoch 64/150\n",
      "4/4 - 0s - loss: 0.5698 - accuracy: 0.8200\n",
      "Epoch 65/150\n",
      "4/4 - 0s - loss: 0.5621 - accuracy: 0.8200\n",
      "Epoch 66/150\n",
      "4/4 - 0s - loss: 0.5556 - accuracy: 0.8100\n",
      "Epoch 67/150\n",
      "4/4 - 0s - loss: 0.5489 - accuracy: 0.8100\n",
      "Epoch 68/150\n",
      "4/4 - 0s - loss: 0.5410 - accuracy: 0.8300\n",
      "Epoch 69/150\n",
      "4/4 - 0s - loss: 0.5341 - accuracy: 0.8500\n",
      "Epoch 70/150\n",
      "4/4 - 0s - loss: 0.5280 - accuracy: 0.8700\n",
      "Epoch 71/150\n",
      "4/4 - 0s - loss: 0.5220 - accuracy: 0.8900\n",
      "Epoch 72/150\n",
      "4/4 - 0s - loss: 0.5154 - accuracy: 0.8900\n",
      "Epoch 73/150\n",
      "4/4 - 0s - loss: 0.5089 - accuracy: 0.8900\n",
      "Epoch 74/150\n",
      "4/4 - 0s - loss: 0.5031 - accuracy: 0.8800\n",
      "Epoch 75/150\n",
      "4/4 - 0s - loss: 0.4965 - accuracy: 0.9000\n",
      "Epoch 76/150\n",
      "4/4 - 0s - loss: 0.4912 - accuracy: 0.9000\n",
      "Epoch 77/150\n",
      "4/4 - 0s - loss: 0.4863 - accuracy: 0.9100\n",
      "Epoch 78/150\n",
      "4/4 - 0s - loss: 0.4817 - accuracy: 0.9100\n",
      "Epoch 79/150\n",
      "4/4 - 0s - loss: 0.4779 - accuracy: 0.9300\n",
      "Epoch 80/150\n",
      "4/4 - 0s - loss: 0.4737 - accuracy: 0.9400\n",
      "Epoch 81/150\n",
      "4/4 - 0s - loss: 0.4705 - accuracy: 0.9500\n",
      "Epoch 82/150\n",
      "4/4 - 0s - loss: 0.4661 - accuracy: 0.9500\n",
      "Epoch 83/150\n",
      "4/4 - 0s - loss: 0.4610 - accuracy: 0.9500\n",
      "Epoch 84/150\n",
      "4/4 - 0s - loss: 0.4543 - accuracy: 0.9400\n",
      "Epoch 85/150\n",
      "4/4 - 0s - loss: 0.4477 - accuracy: 0.9200\n",
      "Epoch 86/150\n",
      "4/4 - 0s - loss: 0.4432 - accuracy: 0.9100\n",
      "Epoch 87/150\n",
      "4/4 - 0s - loss: 0.4393 - accuracy: 0.9400\n",
      "Epoch 88/150\n",
      "4/4 - 0s - loss: 0.4354 - accuracy: 0.9200\n",
      "Epoch 89/150\n",
      "4/4 - 0s - loss: 0.4314 - accuracy: 0.9100\n",
      "Epoch 90/150\n",
      "4/4 - 0s - loss: 0.4272 - accuracy: 0.9200\n",
      "Epoch 91/150\n",
      "4/4 - 0s - loss: 0.4234 - accuracy: 0.9300\n",
      "Epoch 92/150\n",
      "4/4 - 0s - loss: 0.4189 - accuracy: 0.9400\n",
      "Epoch 93/150\n",
      "4/4 - 0s - loss: 0.4154 - accuracy: 0.9400\n",
      "Epoch 94/150\n",
      "4/4 - 0s - loss: 0.4118 - accuracy: 0.9400\n",
      "Epoch 95/150\n",
      "4/4 - 0s - loss: 0.4070 - accuracy: 0.9300\n",
      "Epoch 96/150\n",
      "4/4 - 0s - loss: 0.4036 - accuracy: 0.9300\n",
      "Epoch 97/150\n",
      "4/4 - 0s - loss: 0.4003 - accuracy: 0.9400\n",
      "Epoch 98/150\n",
      "4/4 - 0s - loss: 0.3969 - accuracy: 0.9400\n",
      "Epoch 99/150\n",
      "4/4 - 0s - loss: 0.3936 - accuracy: 0.9400\n",
      "Epoch 100/150\n",
      "4/4 - 0s - loss: 0.3904 - accuracy: 0.9400\n",
      "Epoch 101/150\n",
      "4/4 - 0s - loss: 0.3872 - accuracy: 0.9400\n",
      "Epoch 102/150\n",
      "4/4 - 0s - loss: 0.3837 - accuracy: 0.9400\n",
      "Epoch 103/150\n",
      "4/4 - 0s - loss: 0.3803 - accuracy: 0.9400\n",
      "Epoch 104/150\n",
      "4/4 - 0s - loss: 0.3774 - accuracy: 0.9400\n",
      "Epoch 105/150\n",
      "4/4 - 0s - loss: 0.3742 - accuracy: 0.9300\n",
      "Epoch 106/150\n",
      "4/4 - 0s - loss: 0.3711 - accuracy: 0.9300\n",
      "Epoch 107/150\n",
      "4/4 - 0s - loss: 0.3683 - accuracy: 0.9400\n",
      "Epoch 108/150\n",
      "4/4 - 0s - loss: 0.3660 - accuracy: 0.9400\n",
      "Epoch 109/150\n",
      "4/4 - 0s - loss: 0.3654 - accuracy: 0.9400\n",
      "Epoch 110/150\n",
      "4/4 - 0s - loss: 0.3629 - accuracy: 0.9400\n",
      "Epoch 111/150\n",
      "4/4 - 0s - loss: 0.3592 - accuracy: 0.9400\n",
      "Epoch 112/150\n",
      "4/4 - 0s - loss: 0.3550 - accuracy: 0.9400\n",
      "Epoch 113/150\n",
      "4/4 - 0s - loss: 0.3504 - accuracy: 0.9500\n",
      "Epoch 114/150\n",
      "4/4 - 0s - loss: 0.3468 - accuracy: 0.9500\n",
      "Epoch 115/150\n",
      "4/4 - 0s - loss: 0.3455 - accuracy: 0.9400\n",
      "Epoch 116/150\n",
      "4/4 - 0s - loss: 0.3432 - accuracy: 0.9400\n",
      "Epoch 117/150\n",
      "4/4 - 0s - loss: 0.3411 - accuracy: 0.9500\n",
      "Epoch 118/150\n",
      "4/4 - 0s - loss: 0.3373 - accuracy: 0.9500\n",
      "Epoch 119/150\n",
      "4/4 - 0s - loss: 0.3338 - accuracy: 0.9400\n",
      "Epoch 120/150\n",
      "4/4 - 0s - loss: 0.3307 - accuracy: 0.9500\n",
      "Epoch 121/150\n",
      "4/4 - 0s - loss: 0.3277 - accuracy: 0.9500\n",
      "Epoch 122/150\n",
      "4/4 - 0s - loss: 0.3253 - accuracy: 0.9500\n",
      "Epoch 123/150\n",
      "4/4 - 0s - loss: 0.3221 - accuracy: 0.9500\n",
      "Epoch 124/150\n",
      "4/4 - 0s - loss: 0.3205 - accuracy: 0.9400\n",
      "Epoch 125/150\n",
      "4/4 - 0s - loss: 0.3196 - accuracy: 0.9600\n",
      "Epoch 126/150\n",
      "4/4 - 0s - loss: 0.3194 - accuracy: 0.9600\n",
      "Epoch 127/150\n",
      "4/4 - 0s - loss: 0.3172 - accuracy: 0.9600\n",
      "Epoch 128/150\n",
      "4/4 - 0s - loss: 0.3130 - accuracy: 0.9600\n",
      "Epoch 129/150\n",
      "4/4 - 0s - loss: 0.3095 - accuracy: 0.9600\n",
      "Epoch 130/150\n",
      "4/4 - 0s - loss: 0.3052 - accuracy: 0.9500\n",
      "Epoch 131/150\n",
      "4/4 - 0s - loss: 0.3025 - accuracy: 0.9500\n",
      "Epoch 132/150\n",
      "4/4 - 0s - loss: 0.3001 - accuracy: 0.9500\n",
      "Epoch 133/150\n",
      "4/4 - 0s - loss: 0.2977 - accuracy: 0.9500\n",
      "Epoch 134/150\n",
      "4/4 - 0s - loss: 0.2954 - accuracy: 0.9500\n",
      "Epoch 135/150\n",
      "4/4 - 0s - loss: 0.2930 - accuracy: 0.9500\n",
      "Epoch 136/150\n",
      "4/4 - 0s - loss: 0.2910 - accuracy: 0.9500\n",
      "Epoch 137/150\n",
      "4/4 - 0s - loss: 0.2888 - accuracy: 0.9500\n",
      "Epoch 138/150\n",
      "4/4 - 0s - loss: 0.2865 - accuracy: 0.9500\n",
      "Epoch 139/150\n",
      "4/4 - 0s - loss: 0.2844 - accuracy: 0.9500\n",
      "Epoch 140/150\n",
      "4/4 - 0s - loss: 0.2836 - accuracy: 0.9500\n",
      "Epoch 141/150\n",
      "4/4 - 0s - loss: 0.2809 - accuracy: 0.9500\n",
      "Epoch 142/150\n",
      "4/4 - 0s - loss: 0.2784 - accuracy: 0.9500\n",
      "Epoch 143/150\n",
      "4/4 - 0s - loss: 0.2757 - accuracy: 0.9500\n",
      "Epoch 144/150\n",
      "4/4 - 0s - loss: 0.2740 - accuracy: 0.9600\n",
      "Epoch 145/150\n",
      "4/4 - 0s - loss: 0.2720 - accuracy: 0.9600\n",
      "Epoch 146/150\n",
      "4/4 - 0s - loss: 0.2702 - accuracy: 0.9600\n",
      "Epoch 147/150\n",
      "4/4 - 0s - loss: 0.2697 - accuracy: 0.9600\n",
      "Epoch 148/150\n",
      "4/4 - 0s - loss: 0.2716 - accuracy: 0.9500\n",
      "Epoch 149/150\n",
      "4/4 - 0s - loss: 0.2692 - accuracy: 0.9500\n",
      "Epoch 150/150\n",
      "4/4 - 0s - loss: 0.2646 - accuracy: 0.9600\n"
     ]
    },
    {
     "data": {
      "text/plain": [
       "<tensorflow.python.keras.callbacks.History at 0x21766022f88>"
      ]
     },
     "execution_count": 77,
     "metadata": {},
     "output_type": "execute_result"
    }
   ],
   "source": [
    "model.fit(scaled_X_train,y_train,epochs=150,verbose=2)"
   ]
  },
  {
   "cell_type": "code",
   "execution_count": 83,
   "id": "07c33e0f-802c-49d2-b487-5677b8997aea",
   "metadata": {
    "collapsed": true,
    "jupyter": {
     "outputs_hidden": true
    },
    "tags": []
   },
   "outputs": [
    {
     "data": {
      "text/plain": [
       "array([[2.39009019e-02, 6.63848162e-01, 3.12250882e-01],\n",
       "       [9.46881533e-01, 5.18975668e-02, 1.22089207e-03],\n",
       "       [9.56062722e-05, 7.34721497e-02, 9.26432252e-01],\n",
       "       [1.32450489e-02, 5.27690947e-01, 4.59064037e-01],\n",
       "       [8.06887727e-03, 5.20121932e-01, 4.71809208e-01],\n",
       "       [9.17005420e-01, 8.01129416e-02, 2.88168085e-03],\n",
       "       [6.46846369e-02, 7.00317085e-01, 2.34998330e-01],\n",
       "       [4.17624920e-04, 1.18675224e-01, 8.80907118e-01],\n",
       "       [6.49844855e-03, 4.21764582e-01, 5.71736991e-01],\n",
       "       [4.00021747e-02, 6.92917049e-01, 2.67080843e-01],\n",
       "       [1.71676930e-03, 2.42996529e-01, 7.55286753e-01],\n",
       "       [9.48528767e-01, 4.87808809e-02, 2.69033783e-03],\n",
       "       [9.56739187e-01, 4.20341790e-02, 1.22658547e-03],\n",
       "       [9.51075733e-01, 4.65851389e-02, 2.33907462e-03],\n",
       "       [9.72077966e-01, 2.70415470e-02, 8.80426029e-04],\n",
       "       [1.16275242e-02, 5.44826806e-01, 4.43545640e-01],\n",
       "       [5.30834310e-04, 1.17908634e-01, 8.81560504e-01],\n",
       "       [4.72145043e-02, 7.07327962e-01, 2.45457560e-01],\n",
       "       [2.57785004e-02, 6.29953206e-01, 3.44268233e-01],\n",
       "       [6.51632843e-04, 1.22826539e-01, 8.76521766e-01],\n",
       "       [9.50834572e-01, 4.65940684e-02, 2.57134391e-03],\n",
       "       [4.10396280e-03, 3.30671281e-01, 6.65224791e-01],\n",
       "       [9.35207129e-01, 6.19630925e-02, 2.82969768e-03],\n",
       "       [8.40791501e-04, 1.43297508e-01, 8.55861723e-01],\n",
       "       [6.38450379e-04, 2.50182748e-01, 7.49178767e-01],\n",
       "       [4.16541734e-04, 1.07885845e-01, 8.91697645e-01],\n",
       "       [1.31644192e-03, 2.24363878e-01, 7.74319708e-01],\n",
       "       [3.06259433e-04, 9.82590914e-02, 9.01434720e-01],\n",
       "       [9.28453267e-01, 6.74199164e-02, 4.12685191e-03],\n",
       "       [9.42592442e-01, 5.43372445e-02, 3.07031372e-03],\n",
       "       [9.76187289e-01, 2.29782928e-02, 8.34331266e-04],\n",
       "       [9.77693439e-01, 2.19366923e-02, 3.69776884e-04],\n",
       "       [1.56395640e-02, 6.29547119e-01, 3.54813367e-01],\n",
       "       [9.61011052e-01, 3.72629501e-02, 1.72596460e-03],\n",
       "       [9.57206786e-01, 4.05414701e-02, 2.25168536e-03],\n",
       "       [1.72045268e-03, 2.04139233e-01, 7.94140279e-01],\n",
       "       [1.48380958e-02, 5.94331980e-01, 3.90829980e-01],\n",
       "       [9.60973620e-01, 3.76951434e-02, 1.33124681e-03],\n",
       "       [9.71383214e-01, 2.76184790e-02, 9.98349977e-04],\n",
       "       [9.85547960e-01, 1.41308047e-02, 3.21227388e-04],\n",
       "       [3.15070851e-03, 2.44114816e-01, 7.52734423e-01],\n",
       "       [1.98909882e-02, 5.97435474e-01, 3.82673532e-01],\n",
       "       [9.68004484e-03, 5.45283616e-01, 4.45036381e-01],\n",
       "       [9.66874301e-01, 3.22757922e-02, 8.49883014e-04],\n",
       "       [9.66415703e-01, 3.26692015e-02, 9.15021868e-04],\n",
       "       [6.37835264e-02, 7.40644336e-01, 1.95572153e-01],\n",
       "       [6.72295317e-03, 4.44652230e-01, 5.48624873e-01],\n",
       "       [2.67945928e-03, 3.03589016e-01, 6.93731487e-01],\n",
       "       [1.48349935e-02, 6.07630014e-01, 3.77535015e-01],\n",
       "       [1.45903818e-04, 7.98994228e-02, 9.19954717e-01]], dtype=float32)"
      ]
     },
     "execution_count": 83,
     "metadata": {},
     "output_type": "execute_result"
    }
   ],
   "source": [
    "model.predict(scaled_X_test)"
   ]
  },
  {
   "cell_type": "code",
   "execution_count": 88,
   "id": "6529a2e7-2d4d-4ac5-b9cf-8230ac8e6d2f",
   "metadata": {},
   "outputs": [
    {
     "data": {
      "text/plain": [
       "array([1, 0, 2, 1, 1, 0, 1, 2, 2, 1, 2, 0, 0, 0, 0, 1, 2, 1, 1, 2, 0, 2,\n",
       "       0, 2, 2, 2, 2, 2, 0, 0, 0, 0, 1, 0, 0, 2, 1, 0, 0, 0, 2, 1, 1, 0,\n",
       "       0, 1, 2, 2, 1, 2], dtype=int64)"
      ]
     },
     "execution_count": 88,
     "metadata": {},
     "output_type": "execute_result"
    }
   ],
   "source": [
    "np.argmax(model.predict(scaled_X_test), axis=1)"
   ]
  },
  {
   "cell_type": "code",
   "execution_count": 89,
   "id": "831a1ede-e7d0-45a4-9b1c-a9865c215992",
   "metadata": {},
   "outputs": [],
   "source": [
    "predictions = np.argmax(model.predict(scaled_X_test),axis=1)"
   ]
  },
  {
   "cell_type": "code",
   "execution_count": 91,
   "id": "5764bea3-f34c-4ae2-9053-75a85dd88a15",
   "metadata": {},
   "outputs": [],
   "source": [
    "y_test_arg = y_test.argmax(axis=1)"
   ]
  },
  {
   "cell_type": "code",
   "execution_count": 93,
   "id": "41da8993-80bf-48b1-9793-65b8d6df6bb7",
   "metadata": {},
   "outputs": [
    {
     "data": {
      "text/plain": [
       "array([[0., 1., 0.],\n",
       "       [1., 0., 0.],\n",
       "       [0., 0., 1.],\n",
       "       [0., 1., 0.],\n",
       "       [0., 1., 0.]], dtype=float32)"
      ]
     },
     "execution_count": 93,
     "metadata": {},
     "output_type": "execute_result"
    }
   ],
   "source": [
    "y_test[:5]"
   ]
  },
  {
   "cell_type": "code",
   "execution_count": 94,
   "id": "5d8ca04c-382f-4040-82e9-121e507e61db",
   "metadata": {},
   "outputs": [
    {
     "data": {
      "text/plain": [
       "array([1, 0, 2, 1, 1], dtype=int64)"
      ]
     },
     "execution_count": 94,
     "metadata": {},
     "output_type": "execute_result"
    }
   ],
   "source": [
    "y_test_arg[:5]"
   ]
  },
  {
   "cell_type": "code",
   "execution_count": 96,
   "id": "f841e873-302a-4a24-8e78-b2f29730fa9a",
   "metadata": {},
   "outputs": [
    {
     "name": "stdout",
     "output_type": "stream",
     "text": [
      "[[19  0  0]\n",
      " [ 0 14  1]\n",
      " [ 0  0 16]]\n"
     ]
    }
   ],
   "source": [
    "from sklearn.metrics import confusion_matrix,classification_report,accuracy_score\n",
    "\n",
    "print(confusion_matrix(y_test_arg,predictions))"
   ]
  },
  {
   "cell_type": "code",
   "execution_count": 97,
   "id": "e1557365-5904-452c-9343-6d2261091e1a",
   "metadata": {},
   "outputs": [
    {
     "name": "stdout",
     "output_type": "stream",
     "text": [
      "              precision    recall  f1-score   support\n",
      "\n",
      "           0       1.00      1.00      1.00        19\n",
      "           1       1.00      0.93      0.97        15\n",
      "           2       0.94      1.00      0.97        16\n",
      "\n",
      "    accuracy                           0.98        50\n",
      "   macro avg       0.98      0.98      0.98        50\n",
      "weighted avg       0.98      0.98      0.98        50\n",
      "\n"
     ]
    }
   ],
   "source": [
    "print(classification_report(y_test_arg,predictions))"
   ]
  },
  {
   "cell_type": "code",
   "execution_count": null,
   "id": "84b36076-199f-4a6f-956b-753b106c7892",
   "metadata": {},
   "outputs": [],
   "source": [
    "! git add Iris_deepLearning.ipynb\n",
    "! git commit -m \"15:53/31-01-2022\"\n",
    "! git push origin main"
   ]
  }
 ],
 "metadata": {
  "kernelspec": {
   "display_name": "Python [conda env:nlpenv]",
   "language": "python",
   "name": "conda-env-nlpenv-py"
  },
  "language_info": {
   "codemirror_mode": {
    "name": "ipython",
    "version": 3
   },
   "file_extension": ".py",
   "mimetype": "text/x-python",
   "name": "python",
   "nbconvert_exporter": "python",
   "pygments_lexer": "ipython3",
   "version": "3.7.11"
  }
 },
 "nbformat": 4,
 "nbformat_minor": 5
}
