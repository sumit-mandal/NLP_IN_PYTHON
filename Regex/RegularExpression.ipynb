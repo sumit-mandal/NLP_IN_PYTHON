{
 "cells": [
  {
   "cell_type": "code",
   "execution_count": 3,
   "metadata": {},
   "outputs": [
    {
     "data": {
      "text/plain": [
       "['abc', 'abc', 'abc']"
      ]
     },
     "execution_count": 3,
     "metadata": {},
     "output_type": "execute_result"
    }
   ],
   "source": [
    "import re\n",
    "\n",
    "re.findall('abc','kabjjjbabclwjbgwabclajbabc')"
   ]
  },
  {
   "cell_type": "code",
   "execution_count": 2,
   "metadata": {},
   "outputs": [
    {
     "name": "stdout",
     "output_type": "stream",
     "text": [
      "abc\n",
      "abc\n",
      "abc\n",
      "abc\n"
     ]
    }
   ],
   "source": [
    "k = 'kabjjjbabclwjbgwabclajbabcksjvhabc'\n",
    "\n",
    "iterator =  re.finditer('abc',k)\n",
    "\n",
    "for match in iterator:\n",
    "    print(match.group())"
   ]
  },
  {
   "cell_type": "markdown",
   "metadata": {},
   "source": [
    "# Meta Characters"
   ]
  },
  {
   "cell_type": "markdown",
   "metadata": {},
   "source": [
    "## []\n",
    "\n",
    "- They are used for specifying a character class, which is a set of characters that you wish to match. Characters can be listed individually like [abcdef], or a range of character can be indicated by giving two characters and separating the by a '-' like [a-f]"
   ]
  },
  {
   "cell_type": "code",
   "execution_count": 3,
   "metadata": {},
   "outputs": [
    {
     "data": {
      "text/plain": [
       "['a', 'b', 'b', 'a', 'b', 'c', 'b', 'a', 'b', 'c', 'a', 'b', 'a', 'b', 'c']"
      ]
     },
     "execution_count": 3,
     "metadata": {},
     "output_type": "execute_result"
    }
   ],
   "source": [
    "re.findall('[abcd]','kabjjjbabclwjbgwabclajbabc')"
   ]
  },
  {
   "cell_type": "code",
   "execution_count": 4,
   "metadata": {},
   "outputs": [
    {
     "data": {
      "text/plain": [
       "7"
      ]
     },
     "execution_count": 4,
     "metadata": {},
     "output_type": "execute_result"
    }
   ],
   "source": [
    "### Count the number of digits in a string\n",
    "\n",
    "len(re.findall('[0-9]','asdfja;lwerq___+);lkj2301kjl;89l;aks2'))"
   ]
  },
  {
   "cell_type": "code",
   "execution_count": 5,
   "metadata": {},
   "outputs": [
    {
     "data": {
      "text/plain": [
       "['2', '3', '0', '1', '8', '9', '2']"
      ]
     },
     "execution_count": 5,
     "metadata": {},
     "output_type": "execute_result"
    }
   ],
   "source": [
    "s = 'asdfja;lwerq___+);lkj2301kjl;89l;aks2'\n",
    "re.findall('[0-9]',s)"
   ]
  },
  {
   "cell_type": "code",
   "execution_count": 6,
   "metadata": {},
   "outputs": [
    {
     "name": "stdout",
     "output_type": "stream",
     "text": [
      "Not Found\n"
     ]
    }
   ],
   "source": [
    "if len(re.findall('[0-9][0-9][0-9][0-9]','asdfja;lwerq___+);lkj230lkjl;89l;aks2'))>0:\n",
    "    print(\"Found\")\n",
    "else:\n",
    "    print(\"Not Found\")"
   ]
  },
  {
   "cell_type": "code",
   "execution_count": 7,
   "metadata": {},
   "outputs": [
    {
     "name": "stdout",
     "output_type": "stream",
     "text": [
      "Found\n"
     ]
    }
   ],
   "source": [
    "if len(re.findall('[0-9][0-9][0-9][0-9]','asdfja;lwerq__+);lkj2306lkjl;89l;aks2'))>0:\n",
    "    print(\"Found\")\n",
    "          \n",
    "else:\n",
    "    print(\"Not Found\") \n",
    "          "
   ]
  },
  {
   "cell_type": "code",
   "execution_count": 8,
   "metadata": {},
   "outputs": [
    {
     "data": {
      "text/plain": [
       "['2306']"
      ]
     },
     "execution_count": 8,
     "metadata": {},
     "output_type": "execute_result"
    }
   ],
   "source": [
    "re.findall('[0-9][0-9][0-9][0-9]','asdfja;lwerq__+);lkj2306lkjl;89l;aks2')\n"
   ]
  },
  {
   "cell_type": "markdown",
   "metadata": {},
   "source": [
    "### List the documents that does not contain any digit and any of the following characters:{:,\"\",{,},(,),@,#,&}\n"
   ]
  },
  {
   "cell_type": "code",
   "execution_count": null,
   "metadata": {},
   "outputs": [],
   "source": []
  },
  {
   "cell_type": "code",
   "execution_count": null,
   "metadata": {},
   "outputs": [],
   "source": []
  },
  {
   "cell_type": "code",
   "execution_count": 9,
   "metadata": {},
   "outputs": [],
   "source": [
    "documents = ['asdfj;laieorkdjf;aliejr;akjdf23k4j;lajds;l',\n",
    "            'asdfjoqweitulad;ai@weutadg;lajoetiuaodkgjier',\n",
    "            'asdkfjqoitlskdnfoqwiekhas;ioew=adgoie',\n",
    "            'askdfl_asdkfei_asdjkfla****askeasfff',\n",
    "            '{{{{{asdfjowei@@##askdfoie}}}}}']"
   ]
  },
  {
   "cell_type": "code",
   "execution_count": 10,
   "metadata": {},
   "outputs": [
    {
     "name": "stdout",
     "output_type": "stream",
     "text": [
      "asdkfjqoitlskdnfoqwiekhas;ioew=adgoie\n",
      "askdfl_asdkfei_asdjkfla****askeasfff\n"
     ]
    }
   ],
   "source": [
    "regExp = '[0-9:\"{}()@$&]'\n",
    "\n",
    "for doc in documents:\n",
    "    if len(re.findall(regExp,doc)) > 0:\n",
    "        pass\n",
    "    else:\n",
    "        print(doc)"
   ]
  },
  {
   "cell_type": "code",
   "execution_count": 11,
   "metadata": {},
   "outputs": [
    {
     "name": "stdout",
     "output_type": "stream",
     "text": [
      "{{{{{asdfjowei@@##askdfoie}}}}}\n"
     ]
    }
   ],
   "source": [
    "print(doc)"
   ]
  },
  {
   "cell_type": "code",
   "execution_count": 12,
   "metadata": {},
   "outputs": [
    {
     "name": "stdout",
     "output_type": "stream",
     "text": [
      "asdkfjqoitlskdnfoqwiekhas;ioew=adgoie\n",
      "askdfl_asdkfei_asdjkfla****askeasfff\n"
     ]
    }
   ],
   "source": [
    "regExp = '[^0-9:\"{}()@#&]'\n",
    "for doc in documents:\n",
    "    if len(re.findall(regExp,doc)) == len(doc):\n",
    "        print(doc)"
   ]
  },
  {
   "cell_type": "markdown",
   "metadata": {},
   "source": [
    "### COunt all the backslashes \\ in a document"
   ]
  },
  {
   "cell_type": "code",
   "execution_count": 13,
   "metadata": {},
   "outputs": [],
   "source": [
    "doc = '\\n for new [line, ] \\section and \\document and \\\\\\section \\n'"
   ]
  },
  {
   "cell_type": "code",
   "execution_count": 14,
   "metadata": {},
   "outputs": [
    {
     "name": "stdout",
     "output_type": "stream",
     "text": [
      "7\n"
     ]
    }
   ],
   "source": [
    "# here r means raw character\n",
    "regExp = '[\\\\\\]'\n",
    "print(len(re.findall(regExp,r'\\n for new [line, ] \\section and \\document and \\\\\\section \\n')))"
   ]
  },
  {
   "cell_type": "markdown",
   "metadata": {},
   "source": [
    "#### Count all backslashes and brackets in a documnet"
   ]
  },
  {
   "cell_type": "code",
   "execution_count": 30,
   "metadata": {},
   "outputs": [
    {
     "name": "stdout",
     "output_type": "stream",
     "text": [
      "length is 9\n"
     ]
    },
    {
     "data": {
      "text/plain": [
       "['\\\\', '[', ']', '\\\\', '\\\\', '\\\\', '\\\\', '\\\\', '\\\\']"
      ]
     },
     "execution_count": 30,
     "metadata": {},
     "output_type": "execute_result"
    }
   ],
   "source": [
    "# Solution 1\n",
    "regExp = '[\\[\\]\\\\\\]'\n",
    "print('length is',len(re.findall(regExp,r'\\n for new [line, ] \\section and \\document and \\\\\\section \\n')))\n",
    "re.findall(regExp,r'\\n for new [line, ] \\section and \\document and \\\\\\section \\n')\n"
   ]
  },
  {
   "cell_type": "code",
   "execution_count": 22,
   "metadata": {},
   "outputs": [
    {
     "data": {
      "text/plain": [
       "7"
      ]
     },
     "execution_count": 22,
     "metadata": {},
     "output_type": "execute_result"
    }
   ],
   "source": [
    "doc = r'\\n for new [line, ] \\section and \\document and \\\\\\section \\n'\n",
    "regExp_brackets = '[\\[\\]]'\n",
    "bracket_count = len(re.findall(regExp_brackets,doc))\n",
    "regExp_slashes = '[\\\\\\]'\n",
    "slashes_count = len(re.findall(regExp_slashes,doc))\n",
    "slashes_count"
   ]
  },
  {
   "cell_type": "code",
   "execution_count": 25,
   "metadata": {},
   "outputs": [
    {
     "name": "stdout",
     "output_type": "stream",
     "text": [
      "2\n",
      "9\n"
     ]
    }
   ],
   "source": [
    "print(bracket_count)\n",
    "\n",
    "print(bracket_count+slashes_count)"
   ]
  },
  {
   "cell_type": "markdown",
   "metadata": {},
   "source": [
    "### Count all \\section in a latex document below"
   ]
  },
  {
   "cell_type": "code",
   "execution_count": 37,
   "metadata": {},
   "outputs": [],
   "source": [
    "doc = '\\n for new [line, ] \\section and \\document and \\\\\\section \\n'"
   ]
  },
  {
   "cell_type": "code",
   "execution_count": 38,
   "metadata": {},
   "outputs": [
    {
     "name": "stdout",
     "output_type": "stream",
     "text": [
      "['\\\\section', '\\\\section']\n",
      "length is 2\n"
     ]
    }
   ],
   "source": [
    "regExp = '[\\\\\\]section'\n",
    "print(re.findall(regExp,doc))\n",
    "print('length is',len(re.findall(regExp,doc)))"
   ]
  },
  {
   "cell_type": "markdown",
   "metadata": {},
   "source": [
    "### Count the number of spaces, digits and underscores in a documnet."
   ]
  },
  {
   "cell_type": "code",
   "execution_count": 7,
   "metadata": {},
   "outputs": [
    {
     "name": "stdout",
     "output_type": "stream",
     "text": [
      "['2', '4', '2', '3', '4', ' ', ' ', ' ', ' ', ' ', ' ', '_', '_']\n"
     ]
    },
    {
     "data": {
      "text/plain": [
       "13"
      ]
     },
     "execution_count": 7,
     "metadata": {},
     "output_type": "execute_result"
    }
   ],
   "source": [
    "doc = ('asdfj;laieo2rkdjf;ali4ejr;akjdf23k4j;lajds;l'\n",
    "            'asdfjoqweitu  lad;ai@weuta    dg;lajoetiuaodkgjier'\n",
    "            'asdkfjqoitlskdnfoqwiekhas;ioew=adgoie'\n",
    "            'askdfl_asdkfei_asdjkfla****askeasfff'\n",
    "            '{{{{{asdfjowei@@##askdfoie}}}}}')\n",
    "\n",
    "regExp = '[\\s\\d_]'\n",
    "\n",
    "print(re.findall(regExp,doc))\n",
    "\n",
    "len(re.findall(regExp,doc))"
   ]
  },
  {
   "cell_type": "markdown",
   "metadata": {},
   "source": [
    "### Estric\n",
    "\n",
    "`It is used to find repeated pattern from zero to possibly infinite times`.\n",
    "\n",
    "eg: yahoo,yahoooo,yahooooo..."
   ]
  },
  {
   "cell_type": "code",
   "execution_count": 8,
   "metadata": {},
   "outputs": [
    {
     "data": {
      "text/plain": [
       "['Yahoo', 'Yahoooo', 'Yahooooo']"
      ]
     },
     "execution_count": 8,
     "metadata": {},
     "output_type": "execute_result"
    }
   ],
   "source": [
    "doc = 'yahooYahooYahooooYahoooooYaho'\n",
    "regExp = 'Yahooo*'\n",
    "re.findall(regExp,doc)"
   ]
  },
  {
   "cell_type": "markdown",
   "metadata": {},
   "source": [
    "Given a documemt, list all the longest possible substrings that are proper variable names in most of the programming languages. A proper variable name is defined as the one that does not start with a digit and does not contain any special character other than under score, and it can have arbitrary number of characters"
   ]
  },
  {
   "cell_type": "code",
   "execution_count": 4,
   "metadata": {},
   "outputs": [
    {
     "name": "stdout",
     "output_type": "stream",
     "text": [
      "['asdfj', 'laieo2rkdjf', 'ali4ejr', 'akjdf23k4j', 'lajds', 'lasdfjoqweitu', 'lad', 'ai', 'weuta', 'dg', 'lajoetiuaodkgjierasdkfjqoitlskdnfoqwiekhas', 'ioew', 'adgoieaskdfl_asdkfei_asdjkfla', 'askeasfff', 'asdfjowei', 'askdfoie']\n"
     ]
    }
   ],
   "source": [
    "doc = ('asdfj;35laieo2rkdjf;ali4ejr;akjdf23k4j;lajds;l'\n",
    "            'asdfjoqweitu  lad;ai@weuta    dg;lajoetiuaodkgjier'\n",
    "            'asdkfjqoitlskdnfoqwiekhas;ioew=adgoie'\n",
    "            'askdfl_asdkfei_asdjkfla****askeasfff'\n",
    "            '{{{{{asdfjowei@@##askdfoie}}}}}')\n",
    "\n",
    "regExp = '[a-zA-Z_]\\w*'\n",
    "\n",
    "print(re.findall(regExp,doc))"
   ]
  },
  {
   "cell_type": "markdown",
   "metadata": {},
   "source": [
    "Given a list of variables and function names of a program =, find out if all the variable names and function names are valid or not. If any of the variable or function name is invalid, print \"Syntax Error\" other wise print \"OK\". The validity criteria of a variable name and function name is "
   ]
  },
  {
   "cell_type": "markdown",
   "metadata": {},
   "source": [
    "## Plus- It find repeated pattern from one to possible infinite times\n",
    "\n",
    "yahoo,yahooo,yahoooo,yahooooo..."
   ]
  },
  {
   "cell_type": "code",
   "execution_count": 5,
   "metadata": {},
   "outputs": [
    {
     "name": "stdout",
     "output_type": "stream",
     "text": [
      "['Yahoo', 'Yahooo', 'Yahoooo', 'Yahooooo']\n"
     ]
    }
   ],
   "source": [
    "doc = 'YahooYahoooYahooooYahoooooYaho'\n",
    "regExp = 'Yahoo+'\n",
    "rs = re.findall(regExp,doc)\n",
    "print(rs)"
   ]
  },
  {
   "cell_type": "markdown",
   "metadata": {},
   "source": [
    "### Questionare - It FInds the repeated pattern, from zero to possibly 1 times.\n",
    "\n",
    "`h is optional here and number of o's can be as long as infinte`"
   ]
  },
  {
   "cell_type": "code",
   "execution_count": 6,
   "metadata": {},
   "outputs": [
    {
     "name": "stdout",
     "output_type": "stream",
     "text": [
      "['Yahoo', 'Yaoo', 'Yahoo', 'Yaoo']\n"
     ]
    }
   ],
   "source": [
    "doc = 'YahooYaoooYahooooYaoooooYaho'\n",
    "regExp = 'Yah?oo'\n",
    "rs = re.findall(regExp,doc)\n",
    "print(rs)"
   ]
  },
  {
   "cell_type": "markdown",
   "metadata": {},
   "source": [
    "### List all the substrings in a document that contain at least 2 digits and at most 5 digits"
   ]
  },
  {
   "cell_type": "code",
   "execution_count": 8,
   "metadata": {},
   "outputs": [
    {
     "name": "stdout",
     "output_type": "stream",
     "text": [
      "['35', '23']\n"
     ]
    }
   ],
   "source": [
    "doc = ('asdfj;35laieo2rkdjf;ali4ejr;akjdf23k4j;lajds;l'\n",
    "            'asdfjoqweitu  lad;ai@weuta    dg;lajoetiuaodkgjier'\n",
    "            'asdkfjqoitlskdnfoqwiekhas;ioew=adgoie'\n",
    "            'askdfl_asdkfei_asdjkfla****askeasfff'\n",
    "            '{{{{{asdfjowei@@##askdfoie}}}}}')\n",
    "\n",
    "regExp = '\\d{2,5}'\n",
    "rs = re.findall(regExp,doc)\n",
    "print(rs)"
   ]
  },
  {
   "cell_type": "markdown",
   "metadata": {},
   "source": [
    "##### Match pattern that starts with a and ends with b. And inside the pattern there can be multiple digits(\\d*)"
   ]
  },
  {
   "cell_type": "code",
   "execution_count": 15,
   "metadata": {},
   "outputs": [
    {
     "data": {
      "text/plain": [
       "['a234122B', 'Ab']"
      ]
     },
     "execution_count": 15,
     "metadata": {},
     "output_type": "execute_result"
    }
   ],
   "source": [
    "p = re.compile('a\\d*b',re.IGNORECASE)\n",
    "p.findall('a234122B23456Ab')"
   ]
  },
  {
   "cell_type": "markdown",
   "metadata": {},
   "source": [
    "#### Given a document, count the number of space characters, if any, in the beginning of the documnet"
   ]
  },
  {
   "cell_type": "code",
   "execution_count": 25,
   "metadata": {},
   "outputs": [
    {
     "name": "stdout",
     "output_type": "stream",
     "text": [
      "span is (0, 17),start is 0, end is 17, length is 17\n",
      "When match end print everything other than spaces how are you today ... asdfjla;joeito;angl;a4o3\n"
     ]
    }
   ],
   "source": [
    "doc = '      \\t    \\t   \\t how are you today ... asdfjla;joeito;angl;a4o3'\n",
    "p = re.compile('\\s*')\n",
    "m = p.match(doc)\n",
    "print(f'span is {m.span()},start is {m.start()}, end is {m.end()}, length is {len(m.group())}')\n",
    "print('When match end print everything other than spaces',doc[m.end():])"
   ]
  },
  {
   "cell_type": "code",
   "execution_count": 26,
   "metadata": {},
   "outputs": [
    {
     "name": "stdout",
     "output_type": "stream",
     "text": [
      "(2, 19) 2 19 17\n",
      "how are   \t  you today ... asdfjla;joeito;angl;a4o3\n"
     ]
    }
   ],
   "source": [
    "### Search\n",
    "\n",
    "doc = 'ad      \\t    \\t   \\t how are   \\t  you today ... asdfjla;joeito;angl;a4o3'\n",
    "p = re.compile('\\s+')\n",
    "m = p.search(doc)\n",
    "print(m.span(),m.start(),m.end(),len(m.group()))\n",
    "print(doc[m.end():])"
   ]
  },
  {
   "cell_type": "markdown",
   "metadata": {},
   "source": [
    "## Finditer"
   ]
  },
  {
   "cell_type": "markdown",
   "metadata": {},
   "source": [
    "List all the locations where valid variables in a document exist. The defination of a valid variable is the same as it is in previous module"
   ]
  },
  {
   "cell_type": "code",
   "execution_count": null,
   "metadata": {},
   "outputs": [],
   "source": []
  },
  {
   "cell_type": "code",
   "execution_count": 27,
   "metadata": {},
   "outputs": [],
   "source": [
    "doc = ('asdfj;35laieo2rkdjf;ali4ejr;akjdf23k4j;lajds;l'\n",
    "            'asdfjoqweitu  lad;ai@weuta    dg;lajoetiuaodkgjier'\n",
    "            'asdkfjqoitlskdnfoqwiekhas;ioew=adgoie'\n",
    "            'askdfl_asdkfei_asdjkfla****askeasfff'\n",
    "            '{{{{{asdfjowei@@##askdfoie}}}}}')"
   ]
  },
  {
   "cell_type": "code",
   "execution_count": 29,
   "metadata": {},
   "outputs": [
    {
     "name": "stdout",
     "output_type": "stream",
     "text": [
      "(0, 5) asdfj\n",
      "(8, 19) laieo2rkdjf\n",
      "(20, 27) ali4ejr\n",
      "(28, 38) akjdf23k4j\n",
      "(39, 44) lajds\n",
      "(45, 58) lasdfjoqweitu\n",
      "(60, 63) lad\n",
      "(64, 66) ai\n",
      "(67, 72) weuta\n",
      "(76, 78) dg\n",
      "(79, 121) lajoetiuaodkgjierasdkfjqoitlskdnfoqwiekhas\n",
      "(122, 126) ioew\n",
      "(127, 156) adgoieaskdfl_asdkfei_asdjkfla\n",
      "(160, 169) askeasfff\n",
      "(174, 183) asdfjowei\n",
      "(187, 195) askdfoie\n"
     ]
    }
   ],
   "source": [
    "p = re.compile('[a-zA-z_]\\w*')\n",
    "iterator = p.finditer(doc)\n",
    "for match in iterator:\n",
    "    print(match.span(),match.group())"
   ]
  },
  {
   "cell_type": "code",
   "execution_count": 32,
   "metadata": {},
   "outputs": [
    {
     "name": "stdout",
     "output_type": "stream",
     "text": [
      "['\\\\', '[', ']', '\\\\', '\\\\', '\\\\', '\\\\', '\\\\', '\\\\']\n",
      "9\n"
     ]
    }
   ],
   "source": [
    "doc = r'\\n for new [line, ] \\section and \\document and \\\\\\section \\n'\n",
    "regExp_brackets = '[\\[\\]]'\n",
    "\n",
    "regExp_slashes = '[\\\\\\]'\n",
    "\n",
    "print(re.findall(regExp_brackets + '|'+ regExp_slashes,doc))\n",
    "\n",
    "print(len(re.findall(regExp_brackets+'|'+regExp_slashes,doc)))"
   ]
  },
  {
   "cell_type": "markdown",
   "metadata": {},
   "source": [
    "### () --> Makes a group of characters to be treated just like a single character"
   ]
  },
  {
   "cell_type": "code",
   "execution_count": 34,
   "metadata": {},
   "outputs": [
    {
     "name": "stdout",
     "output_type": "stream",
     "text": [
      "(8, 23) thethethethethe\n",
      "(27, 33) thethe\n",
      "(34, 43) thethethe\n"
     ]
    }
   ],
   "source": [
    "doc = 'find in thethethethetheasdfthethe thethethefas'\n",
    "p = re.compile('(the)+')\n",
    "iterator = p.finditer(doc)\n",
    "for m in iterator:\n",
    "    print(m.span(),m.group())\n"
   ]
  },
  {
   "cell_type": "markdown",
   "metadata": {},
   "source": [
    "### String Modification"
   ]
  },
  {
   "cell_type": "markdown",
   "metadata": {},
   "source": [
    "### Split method used for spliting"
   ]
  },
  {
   "cell_type": "code",
   "execution_count": 35,
   "metadata": {},
   "outputs": [
    {
     "data": {
      "text/plain": [
       "['This', 'test', 'is', 'short', 'and', 'sweet', '45u4__', 'buft']"
      ]
     },
     "execution_count": 35,
     "metadata": {},
     "output_type": "execute_result"
    }
   ],
   "source": [
    "p = re.compile('\\W+')\n",
    "p.split('This test, --++**\\\\ is short and sweet ,,... 45u4__&&##buft')"
   ]
  },
  {
   "cell_type": "markdown",
   "metadata": {},
   "source": [
    "### Sub method - used for replacing"
   ]
  },
  {
   "cell_type": "code",
   "execution_count": 37,
   "metadata": {},
   "outputs": [
    {
     "data": {
      "text/plain": [
       "'color shoes and color socks'"
      ]
     },
     "execution_count": 37,
     "metadata": {},
     "output_type": "execute_result"
    }
   ],
   "source": [
    "p = re.compile('(blue\\s|white\\s|red\\s)+',re.IGNORECASE)\n",
    "p.sub('color ','blue REd shoes and White BLue red white red socks')"
   ]
  },
  {
   "cell_type": "markdown",
   "metadata": {},
   "source": [
    "##### In a document, replace multiple connsecutive white spaces into a single one and remove white spaces at the beginning and at the end of the document"
   ]
  },
  {
   "cell_type": "code",
   "execution_count": 38,
   "metadata": {},
   "outputs": [
    {
     "data": {
      "text/plain": [
       "'abd asd kluoeiur liueou lkuioe lieoj sd'"
      ]
     },
     "execution_count": 38,
     "metadata": {},
     "output_type": "execute_result"
    }
   ],
   "source": [
    "doc = '   abd     asd kluoeiur   liueou lkuioe    lieoj \\t sd     '\n",
    "p1 = re.compile('\\s+')\n",
    "p2 = re.compile('^ | $')\n",
    "p2.sub('',p1.sub(' ',doc))"
   ]
  },
  {
   "cell_type": "code",
   "execution_count": 39,
   "metadata": {},
   "outputs": [
    {
     "name": "stderr",
     "output_type": "stream",
     "text": [
      "warning: LF will be replaced by CRLF in Regex/RegularExpression.ipynb.\n",
      "The file will have its original line endings in your working directory\n",
      "git: 'commmit' is not a git command. See 'git --help'.\n",
      "\n",
      "The most similar command is\n",
      "\tcommit\n",
      "Everything up-to-date\n"
     ]
    }
   ],
   "source": [
    "! git add RegularExpression.ipynb\n",
    "! git commit -m \"02:13/09-01-2021\"\n",
    "! git push origin main"
   ]
  },
  {
   "cell_type": "code",
   "execution_count": null,
   "metadata": {},
   "outputs": [],
   "source": []
  }
 ],
 "metadata": {
  "kernelspec": {
   "display_name": "Python [conda env:cv]",
   "language": "python",
   "name": "conda-env-cv-py"
  },
  "language_info": {
   "codemirror_mode": {
    "name": "ipython",
    "version": 3
   },
   "file_extension": ".py",
   "mimetype": "text/x-python",
   "name": "python",
   "nbconvert_exporter": "python",
   "pygments_lexer": "ipython3",
   "version": "3.6.13"
  }
 },
 "nbformat": 4,
 "nbformat_minor": 4
}
