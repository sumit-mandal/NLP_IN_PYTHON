{
 "cells": [
  {
   "cell_type": "code",
   "execution_count": 1,
   "id": "fcc3aa29-95fd-4f99-8c34-679aade82cf0",
   "metadata": {},
   "outputs": [],
   "source": [
    "import spacy\n",
    "nlp = spacy.load('en_core_web_sm')"
   ]
  },
  {
   "cell_type": "code",
   "execution_count": 67,
   "id": "b1ae5d79-95a3-4b76-802a-e418948df403",
   "metadata": {},
   "outputs": [],
   "source": [
    "def show_ents(doc):\n",
    "    if doc.ents:\n",
    "        for ent in doc.ents:\n",
    "            print(ent.text + ' - ' +ent.label_ + ' - '+ str(spacy.explain(ent.label_)))\n",
    "            \n",
    "    else:\n",
    "        print(\"No entities found\")\n",
    "    "
   ]
  },
  {
   "cell_type": "code",
   "execution_count": 4,
   "id": "86b492ff-3092-4851-949c-53fb0460cbc7",
   "metadata": {},
   "outputs": [],
   "source": [
    "doc = nlp(u\"Hi how are you??\")"
   ]
  },
  {
   "cell_type": "code",
   "execution_count": 5,
   "id": "018e99fb-549a-453b-a646-b861510b397d",
   "metadata": {},
   "outputs": [
    {
     "name": "stdout",
     "output_type": "stream",
     "text": [
      "No entities found\n"
     ]
    }
   ],
   "source": [
    "show_ents(doc)"
   ]
  },
  {
   "cell_type": "code",
   "execution_count": 10,
   "id": "35a47ac6-c5b9-42b3-9c01-e2c56fe144d6",
   "metadata": {},
   "outputs": [],
   "source": [
    "doc = nlp(u\"May I go to washington, DC next May to see the Washington Monumnet?\")"
   ]
  },
  {
   "cell_type": "code",
   "execution_count": 11,
   "id": "94ef398a-3988-4e15-9a87-67a20dcb4336",
   "metadata": {},
   "outputs": [
    {
     "name": "stdout",
     "output_type": "stream",
     "text": [
      "washington - GPE - Countries, cities, states\n",
      "DC - GPE - Countries, cities, states\n",
      "next May - DATE - Absolute or relative dates or periods\n",
      "the Washington Monumnet - GPE - Countries, cities, states\n"
     ]
    }
   ],
   "source": [
    "show_ents(doc)"
   ]
  },
  {
   "cell_type": "code",
   "execution_count": 12,
   "id": "1608a842-2a11-4503-9bc3-2f340d7650db",
   "metadata": {},
   "outputs": [],
   "source": [
    "doc = nlp(u\"Can I please have a 500 dollars of Microsoft stock?\")"
   ]
  },
  {
   "cell_type": "code",
   "execution_count": 13,
   "id": "72f5c114-0d9e-4d79-baaf-ef65455f49ba",
   "metadata": {},
   "outputs": [
    {
     "name": "stdout",
     "output_type": "stream",
     "text": [
      "500 dollars - MONEY - Monetary values, including unit\n",
      "Microsoft - ORG - Companies, agencies, institutions, etc.\n"
     ]
    }
   ],
   "source": [
    "show_ents(doc)"
   ]
  },
  {
   "cell_type": "code",
   "execution_count": 14,
   "id": "b6369696-aa28-4afc-8c32-8e23a596f237",
   "metadata": {},
   "outputs": [],
   "source": [
    "doc = nlp(u\"Tesla to build a U.K. factory for $6 million\")"
   ]
  },
  {
   "cell_type": "code",
   "execution_count": 15,
   "id": "6d4d3b05-94ff-4fc7-a23d-573fe11003fd",
   "metadata": {},
   "outputs": [
    {
     "name": "stdout",
     "output_type": "stream",
     "text": [
      "U.K. - GPE - Countries, cities, states\n",
      "$6 million - MONEY - Monetary values, including unit\n"
     ]
    }
   ],
   "source": [
    "show_ents(doc)"
   ]
  },
  {
   "cell_type": "code",
   "execution_count": 16,
   "id": "ef371a48-a93a-4046-912c-cab0f1b83b5f",
   "metadata": {},
   "outputs": [],
   "source": [
    "from spacy.tokens import Span"
   ]
  },
  {
   "cell_type": "code",
   "execution_count": 17,
   "id": "3f5cdb78-0bfe-469e-9629-58c1c5bb95d4",
   "metadata": {},
   "outputs": [],
   "source": [
    "ORG = doc.vocab.strings[u\"ORG\"]"
   ]
  },
  {
   "cell_type": "code",
   "execution_count": 18,
   "id": "7726ec29-8809-4167-8421-906123e36717",
   "metadata": {},
   "outputs": [
    {
     "data": {
      "text/plain": [
       "383"
      ]
     },
     "execution_count": 18,
     "metadata": {},
     "output_type": "execute_result"
    }
   ],
   "source": [
    "ORG"
   ]
  },
  {
   "cell_type": "code",
   "execution_count": 19,
   "id": "baffd2e6-a752-4f9e-88c9-2fe34159cfdd",
   "metadata": {},
   "outputs": [],
   "source": [
    "new_ent = Span(doc,0,1,label=ORG)"
   ]
  },
  {
   "cell_type": "code",
   "execution_count": 20,
   "id": "d39521e9-e866-4463-97d3-c71a6aa6f7b2",
   "metadata": {},
   "outputs": [],
   "source": [
    "doc.ents = list(doc.ents) + [new_ent]"
   ]
  },
  {
   "cell_type": "code",
   "execution_count": 21,
   "id": "f3165566-2717-4187-80ee-911d7c5712f0",
   "metadata": {},
   "outputs": [
    {
     "data": {
      "text/plain": [
       "(Tesla, U.K., $6 million)"
      ]
     },
     "execution_count": 21,
     "metadata": {},
     "output_type": "execute_result"
    }
   ],
   "source": [
    "doc.ents"
   ]
  },
  {
   "cell_type": "code",
   "execution_count": 22,
   "id": "e309b63f-0a03-4bd5-97d6-5c360a2b42ab",
   "metadata": {},
   "outputs": [
    {
     "name": "stdout",
     "output_type": "stream",
     "text": [
      "Tesla - ORG - Companies, agencies, institutions, etc.\n",
      "U.K. - GPE - Countries, cities, states\n",
      "$6 million - MONEY - Monetary values, including unit\n"
     ]
    }
   ],
   "source": [
    "show_ents(doc)"
   ]
  },
  {
   "cell_type": "markdown",
   "id": "a5f22620-a417-45ad-81b5-fddd0b84aae9",
   "metadata": {},
   "source": [
    "## Part -2 "
   ]
  },
  {
   "cell_type": "code",
   "execution_count": 54,
   "id": "6b839dfe-cb29-4dec-b164-63a21e4f1f89",
   "metadata": {},
   "outputs": [],
   "source": [
    "doc = nlp(u\"Our company created a brand new vaccum cleaner. \"\n",
    "         u\"This new vaccum-cleaner is the best in show.\")"
   ]
  },
  {
   "cell_type": "code",
   "execution_count": 55,
   "id": "40a51571-57c7-405d-b21f-fd90ede61e85",
   "metadata": {},
   "outputs": [],
   "source": [
    "from spacy.matcher import PhraseMatcher\n",
    "matcher = PhraseMatcher(nlp.vocab)"
   ]
  },
  {
   "cell_type": "code",
   "execution_count": 56,
   "id": "9e0f1c01-f567-464b-b063-a0b78d363979",
   "metadata": {},
   "outputs": [],
   "source": [
    "phrase_list = ['vaccum cleaner','vaccum-cleaner']\n",
    "phrase_patterns = [nlp(text) for text in phrase_list]"
   ]
  },
  {
   "cell_type": "code",
   "execution_count": 57,
   "id": "3d90c9d8-93c6-4b92-8b68-e6a251fb3732",
   "metadata": {},
   "outputs": [
    {
     "data": {
      "text/plain": [
       "[vaccum cleaner, vaccum-cleaner]"
      ]
     },
     "execution_count": 57,
     "metadata": {},
     "output_type": "execute_result"
    }
   ],
   "source": [
    "phrase_patterns"
   ]
  },
  {
   "cell_type": "code",
   "execution_count": 58,
   "id": "a90f5393-e19e-46c0-98e3-2ab6bb531ebf",
   "metadata": {},
   "outputs": [],
   "source": [
    "matcher.add('newproduct',[*phrase_patterns],on_match=None)"
   ]
  },
  {
   "cell_type": "code",
   "execution_count": 59,
   "id": "d3d92ea4-6356-4f2d-82f1-739b432e18d5",
   "metadata": {},
   "outputs": [
    {
     "data": {
      "text/plain": [
       "[(2689272359382549672, 6, 8), (2689272359382549672, 11, 14)]"
      ]
     },
     "execution_count": 59,
     "metadata": {},
     "output_type": "execute_result"
    }
   ],
   "source": [
    "found_matches = matcher(doc)\n",
    "found_matches"
   ]
  },
  {
   "cell_type": "code",
   "execution_count": 60,
   "id": "5e1f11bb-acf8-4d1a-872f-eee392b95be7",
   "metadata": {},
   "outputs": [],
   "source": [
    "from spacy.tokens import Span\n",
    "PROD = doc.vocab.strings[u\"PRODUCT\"]"
   ]
  },
  {
   "cell_type": "code",
   "execution_count": 62,
   "id": "8b476143-d413-4e11-965d-4f5c9af32f16",
   "metadata": {},
   "outputs": [],
   "source": [
    "new_ents = [Span(doc,match[1],match[2],label = PROD) for match in found_matches]"
   ]
  },
  {
   "cell_type": "code",
   "execution_count": 63,
   "id": "b4fdfb24-34f7-4625-b3d6-1cc53551fc41",
   "metadata": {},
   "outputs": [
    {
     "data": {
      "text/plain": [
       "[vaccum cleaner, vaccum-cleaner]"
      ]
     },
     "execution_count": 63,
     "metadata": {},
     "output_type": "execute_result"
    }
   ],
   "source": [
    "new_ents"
   ]
  },
  {
   "cell_type": "code",
   "execution_count": 64,
   "id": "f47348e1-3fcb-493b-934a-c4cd17ee1b40",
   "metadata": {},
   "outputs": [],
   "source": [
    "doc.ents = list(doc.ents) + new_ents"
   ]
  },
  {
   "cell_type": "code",
   "execution_count": 65,
   "id": "7d0028ed-22c6-4baf-a422-88195d316c1c",
   "metadata": {},
   "outputs": [
    {
     "name": "stdout",
     "output_type": "stream",
     "text": [
      "vaccum cleaner - PRODUCT - Objects, vehicles, foods, etc. (not services)\n",
      "vaccum-cleaner - PRODUCT - Objects, vehicles, foods, etc. (not services)\n"
     ]
    }
   ],
   "source": [
    "show_ents(doc)"
   ]
  },
  {
   "cell_type": "code",
   "execution_count": 70,
   "id": "0525c932-d96f-4c77-942d-e44a119640ee",
   "metadata": {},
   "outputs": [],
   "source": [
    "doc = nlp(u\"Originally I paid $29.95 for this car toy, but now it is marked down by 10 dollars.\")\n"
   ]
  },
  {
   "cell_type": "code",
   "execution_count": 71,
   "id": "f4dcf872-cbc3-4d70-8e0c-2ac4a4785633",
   "metadata": {},
   "outputs": [
    {
     "name": "stdout",
     "output_type": "stream",
     "text": [
      "29.95 - MONEY - Monetary values, including unit\n",
      "10 dollars - MONEY - Monetary values, including unit\n"
     ]
    }
   ],
   "source": [
    "show_ents(doc)"
   ]
  },
  {
   "cell_type": "code",
   "execution_count": 74,
   "id": "48ac4d6c-400b-4a4c-b464-59449f53ce56",
   "metadata": {},
   "outputs": [
    {
     "data": {
      "text/plain": [
       "[29.95, 10 dollars]"
      ]
     },
     "execution_count": 74,
     "metadata": {},
     "output_type": "execute_result"
    }
   ],
   "source": [
    "[ent for ent in doc.ents if ent.label_ == 'MONEY']"
   ]
  },
  {
   "cell_type": "code",
   "execution_count": null,
   "id": "16d0fe4c-41a2-4c31-b95f-30c6f9b864bc",
   "metadata": {},
   "outputs": [],
   "source": [
    "!git add NER_1.ipynb\n",
    "!git commit -m '16:23/24-01-2022'\n",
    "!git push origin main"
   ]
  }
 ],
 "metadata": {
  "kernelspec": {
   "display_name": "Python [conda env:nlpenv]",
   "language": "python",
   "name": "conda-env-nlpenv-py"
  },
  "language_info": {
   "codemirror_mode": {
    "name": "ipython",
    "version": 3
   },
   "file_extension": ".py",
   "mimetype": "text/x-python",
   "name": "python",
   "nbconvert_exporter": "python",
   "pygments_lexer": "ipython3",
   "version": "3.7.11"
  }
 },
 "nbformat": 4,
 "nbformat_minor": 5
}
