{
 "cells": [
  {
   "cell_type": "code",
   "execution_count": 1,
   "id": "f6d17e3d-e4c9-4a2a-95b5-cab3f8f2792f",
   "metadata": {},
   "outputs": [],
   "source": [
    "import spacy\n",
    "nlp = spacy.load('en_core_web_sm')"
   ]
  },
  {
   "cell_type": "code",
   "execution_count": 2,
   "id": "9e938e31-1631-468e-be0e-dc236d586bfb",
   "metadata": {},
   "outputs": [],
   "source": [
    "doc = nlp(u\"The quick brown fox jumped over the lazy dog's back.\")"
   ]
  },
  {
   "cell_type": "code",
   "execution_count": 6,
   "id": "6ad21876-0647-46af-8b4a-0184028e9986",
   "metadata": {},
   "outputs": [
    {
     "name": "stdout",
     "output_type": "stream",
     "text": [
      "The quick brown fox jumped over the lazy dog's back.\n"
     ]
    }
   ],
   "source": [
    "print(doc.text)"
   ]
  },
  {
   "cell_type": "code",
   "execution_count": 8,
   "id": "73135a00-e151-4a1a-a87e-86dfe9b825e8",
   "metadata": {},
   "outputs": [
    {
     "name": "stdout",
     "output_type": "stream",
     "text": [
      "jumped\n"
     ]
    }
   ],
   "source": [
    "print(doc[4].text)"
   ]
  },
  {
   "cell_type": "code",
   "execution_count": 9,
   "id": "a34d3637-79cb-4f95-8410-0adc22fbbf5c",
   "metadata": {},
   "outputs": [
    {
     "name": "stdout",
     "output_type": "stream",
     "text": [
      "VBD\n"
     ]
    }
   ],
   "source": [
    "print(doc[4].tag_)"
   ]
  },
  {
   "cell_type": "code",
   "execution_count": 10,
   "id": "87d516e8-b1be-4997-b3c5-97a2eaa8c96a",
   "metadata": {},
   "outputs": [
    {
     "name": "stdout",
     "output_type": "stream",
     "text": [
      "VERB\n"
     ]
    }
   ],
   "source": [
    "print(doc[4].pos_)"
   ]
  },
  {
   "cell_type": "code",
   "execution_count": 14,
   "id": "5de35900-c1b2-434e-a9e6-911e4f0b83a3",
   "metadata": {},
   "outputs": [
    {
     "name": "stdout",
     "output_type": "stream",
     "text": [
      "The        DET        DT                   determiner\n",
      "quick      ADJ        JJ                   adjective (English), other noun-modifier (Chinese)\n",
      "brown      ADJ        JJ                   adjective (English), other noun-modifier (Chinese)\n",
      "fox        NOUN       NN                   noun, singular or mass\n",
      "jumped     VERB       VBD                  verb, past tense\n",
      "over       ADP        IN                   conjunction, subordinating or preposition\n",
      "the        DET        DT                   determiner\n",
      "lazy       ADJ        JJ                   adjective (English), other noun-modifier (Chinese)\n",
      "dog        NOUN       NN                   noun, singular or mass\n",
      "'s         PART       POS                  possessive ending\n",
      "back       NOUN       NN                   noun, singular or mass\n",
      ".          PUNCT      .                    punctuation mark, sentence closer\n"
     ]
    }
   ],
   "source": [
    "for token in doc:\n",
    "    print(f\"{token.text:{10}} {token.pos_:{10}} {token.tag_:{20}} {spacy.explain(token.tag_)}\")"
   ]
  },
  {
   "cell_type": "code",
   "execution_count": 15,
   "id": "2342b50d-623e-4f0e-a89a-62f191243841",
   "metadata": {},
   "outputs": [],
   "source": [
    "doc = nlp(u\"I read books on NLP\")"
   ]
  },
  {
   "cell_type": "code",
   "execution_count": 16,
   "id": "0bc7e417-9fe3-4e6c-ab91-b223d3e1b58f",
   "metadata": {},
   "outputs": [],
   "source": [
    "word = doc[1]"
   ]
  },
  {
   "cell_type": "code",
   "execution_count": 17,
   "id": "771fe369-1f31-486a-8f37-662ece921eda",
   "metadata": {},
   "outputs": [
    {
     "data": {
      "text/plain": [
       "'read'"
      ]
     },
     "execution_count": 17,
     "metadata": {},
     "output_type": "execute_result"
    }
   ],
   "source": [
    "word.text"
   ]
  },
  {
   "cell_type": "code",
   "execution_count": 23,
   "id": "7ea89189-5e2e-4d9a-b8f7-bc5f81fe4d8d",
   "metadata": {},
   "outputs": [
    {
     "name": "stdout",
     "output_type": "stream",
     "text": [
      "read       VERB       VBP                  verb, non-3rd person singular present\n"
     ]
    }
   ],
   "source": [
    "token = word\n",
    "print(f\"{token.text:{10}} {token.pos_:{10}} {token.tag_:{20}} {spacy.explain(token.tag_)}\")"
   ]
  },
  {
   "cell_type": "code",
   "execution_count": 24,
   "id": "7cd6aecb-3804-4b07-9adc-3f5238bde6e6",
   "metadata": {},
   "outputs": [
    {
     "name": "stdout",
     "output_type": "stream",
     "text": [
      "read       VERB       VBP                  verb, non-3rd person singular present\n"
     ]
    }
   ],
   "source": [
    "doc = nlp(u\"I read a book on NLP.\")\n",
    "\n",
    "token = word\n",
    "print(f\"{token.text:{10}} {token.pos_:{10}} {token.tag_:{20}} {spacy.explain(token.tag_)}\")"
   ]
  },
  {
   "cell_type": "code",
   "execution_count": 25,
   "id": "c38880e7-b038-4996-ae52-1b90d3d53feb",
   "metadata": {},
   "outputs": [],
   "source": [
    "doc = nlp(u\"The quick brown fox jumped over the lazy dog's back.\")"
   ]
  },
  {
   "cell_type": "code",
   "execution_count": 29,
   "id": "ae74dac6-2ccd-4639-8b47-1630551dc570",
   "metadata": {},
   "outputs": [],
   "source": [
    "POS_counts = doc.count_by(spacy.attrs.POS)"
   ]
  },
  {
   "cell_type": "code",
   "execution_count": 27,
   "id": "cccc2a25-4e18-492b-844c-29078bf2ff74",
   "metadata": {},
   "outputs": [
    {
     "data": {
      "text/plain": [
       "{90: 2, 84: 3, 92: 3, 100: 1, 85: 1, 94: 1, 97: 1}"
      ]
     },
     "execution_count": 27,
     "metadata": {},
     "output_type": "execute_result"
    }
   ],
   "source": [
    "POS_counts"
   ]
  },
  {
   "cell_type": "code",
   "execution_count": 31,
   "id": "63456847-4a7f-4c99-849b-bac64a4d00ff",
   "metadata": {},
   "outputs": [
    {
     "data": {
      "text/plain": [
       "'ADJ'"
      ]
     },
     "execution_count": 31,
     "metadata": {},
     "output_type": "execute_result"
    }
   ],
   "source": [
    "doc.vocab[84].text"
   ]
  },
  {
   "cell_type": "code",
   "execution_count": 47,
   "id": "2be06d1a-83b6-4755-979b-d9d637465695",
   "metadata": {},
   "outputs": [
    {
     "name": "stdout",
     "output_type": "stream",
     "text": [
      "84,ADJ       3\n",
      "85,ADP       1\n",
      "90,DET       2\n",
      "92,NOUN      3\n",
      "94,PART      1\n",
      "97,PUNCT     1\n",
      "100,VERB      1\n"
     ]
    }
   ],
   "source": [
    "for k,pos in sorted(POS_counts.items()):\n",
    "    print(f\"{k:},{doc.vocab[k].text:{5}} {pos:{5}}\")"
   ]
  },
  {
   "cell_type": "code",
   "execution_count": null,
   "id": "8c470302-a105-4cdb-80e0-7845850c124e",
   "metadata": {},
   "outputs": [],
   "source": []
  },
  {
   "cell_type": "code",
   "execution_count": 49,
   "id": "6e4d5b5a-09de-481e-abe2-ea336cc3e3c5",
   "metadata": {},
   "outputs": [
    {
     "name": "stdout",
     "output_type": "stream",
     "text": [
      "74,POS   1\n",
      "1292078113972184607,IN    1\n",
      "10554686591937588953,JJ    3\n",
      "12646065887601541794,.     1\n",
      "15267657372422890137,DT    2\n",
      "15308085513773655218,NN    3\n",
      "17109001835818727656,VBD   1\n"
     ]
    }
   ],
   "source": [
    "TAG_counts = doc.count_by(spacy.attrs.TAG)\n",
    "for k,pos in sorted(TAG_counts.items()):\n",
    "    print(f\"{k:},{doc.vocab[k].text:{5}} {pos}\")"
   ]
  },
  {
   "cell_type": "code",
   "execution_count": 52,
   "id": "5d81cdf4-78a4-482b-801e-9feb288b9f8c",
   "metadata": {},
   "outputs": [
    {
     "name": "stdout",
     "output_type": "stream",
     "text": [
      "402,amod  3\n",
      "415,det   2\n",
      "429,nsubj 1\n",
      "439,pobj  1\n",
      "440,poss  1\n",
      "443,prep  1\n",
      "445,punct 1\n",
      "8110129090154140942,case  1\n",
      "8206900633647566924,ROOT  1\n"
     ]
    }
   ],
   "source": [
    "# Syntatic dependencies\n",
    "\n",
    "DEP_counts = doc.count_by(spacy.attrs.DEP)\n",
    "for k,pos in sorted(DEP_counts.items()):\n",
    "    print(f\"{k:},{doc.vocab[k].text:{5}} {pos}\")"
   ]
  },
  {
   "cell_type": "code",
   "execution_count": null,
   "id": "96356f91-fc55-45f3-ac86-e7053b1f6747",
   "metadata": {},
   "outputs": [],
   "source": []
  }
 ],
 "metadata": {
  "kernelspec": {
   "display_name": "Python [conda env:nlpenv]",
   "language": "python",
   "name": "conda-env-nlpenv-py"
  },
  "language_info": {
   "codemirror_mode": {
    "name": "ipython",
    "version": 3
   },
   "file_extension": ".py",
   "mimetype": "text/x-python",
   "name": "python",
   "nbconvert_exporter": "python",
   "pygments_lexer": "ipython3",
   "version": "3.7.11"
  }
 },
 "nbformat": 4,
 "nbformat_minor": 5
}
