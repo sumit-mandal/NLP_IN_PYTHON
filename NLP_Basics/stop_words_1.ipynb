{
 "cells": [
  {
   "cell_type": "code",
   "execution_count": 1,
   "id": "68b9670e-7126-4b14-8ff0-f9857fdf900c",
   "metadata": {},
   "outputs": [],
   "source": [
    "import spacy"
   ]
  },
  {
   "cell_type": "code",
   "execution_count": 2,
   "id": "acb09a05-a20a-4dfa-b6b8-de8c086038aa",
   "metadata": {},
   "outputs": [],
   "source": [
    "nlp = spacy.load('en_core_web_sm')"
   ]
  },
  {
   "cell_type": "code",
   "execution_count": 3,
   "id": "08ecbfe7-4526-4a23-a9e7-afdde3c97556",
   "metadata": {},
   "outputs": [
    {
     "name": "stdout",
     "output_type": "stream",
     "text": [
      "{'nevertheless', 'beyond', 'since', 'from', 'last', 'though', 're', 'using', 'elsewhere', 'one', 'your', 'she', 'otherwise', 'an', 'third', 'formerly', 'same', 'or', 'in', 'those', 'seeming', 'twelve', 'others', 'up', \"'ve\", 'never', 'whereby', 'were', 'seemed', 'perhaps', 'per', 'herein', 'less', 'each', 'yourself', 'to', 'ourselves', 'throughout', 'say', 'whose', '’ve', 'whatever', 'anyone', 'be', 'against', 'wherever', 'move', 'hence', 'within', 'whereafter', 'her', 'regarding', 'mostly', 'ours', 'whereas', 'see', 'thence', 'because', 'by', '’s', 'many', 'take', 'four', 'i', 'front', 'much', 'into', 'five', 'name', 'part', 'yours', 'you', 'itself', 'being', 'due', 'upon', 'back', 'nor', 'rather', 'whenever', 'whoever', 'seem', 'across', 'other', 'somewhere', 'beside', 'sometime', 'always', 'cannot', 'very', 'again', 'moreover', 'ten', 'anything', 'who', 'nine', 'seems', '’d', 'above', 'thus', 'beforehand', 'most', '’m', 'it', 'hers', 'via', 'everything', 'at', 'of', 'could', 'all', 'what', 'well', 'below', 'mine', 'is', 'and', 'toward', 'fifty', 'besides', 'while', 'so', 'various', 'amongst', '’re', 'yet', 'becomes', 'none', 'give', 'else', 'no', 'among', 'me', 'this', 'except', 'afterwards', 'off', \"'s\", 'before', 'two', 'himself', 'their', '’ll', \"'m\", 'any', 'already', 'quite', 'anywhere', 'towards', 'where', 'about', 'meanwhile', 'call', 'either', 'behind', '‘ll', 'someone', '‘m', 'out', 'too', 'keep', 'they', 'hereafter', \"'re\", 'whereupon', 'forty', 'but', 'ca', 'eight', '‘s', 'a', 'our', \"'ll\", 'therefore', 'without', 'he', 'sometimes', 'around', 'does', 'may', 'thereafter', 'not', 'was', 'hereby', 'put', 'former', 'used', 'namely', 'would', '‘re', 'these', 'sixty', 'some', 'latterly', 'something', 'his', 'get', 'had', 'my', 'please', 'both', 'am', 'whether', 'thru', 'during', 'every', 'made', 'make', 'has', 'just', 'however', 'became', 'top', 'we', 'onto', 'side', 'neither', 'go', 'than', 'wherein', 'as', 'often', 'anyhow', 'us', 'hereupon', 'now', 'the', 'further', 'several', 'latter', 'next', 'somehow', 'enough', 'bottom', 'nothing', 'nobody', 'there', 'full', 'until', 'doing', 'whence', 'empty', 'amount', 'almost', 'therein', 'own', 'anyway', 'for', 'whole', 'are', 'hundred', 'few', 'will', 'alone', 'become', 'herself', \"'d\", 'that', 'indeed', 'here', 'why', 'unless', 'been', 'after', 'everyone', 'even', '‘d', 'such', 'six', 'over', 'n’t', 'only', 'did', 'should', 'really', 'twenty', 'n‘t', 'nowhere', 'yourselves', 'show', 'thereupon', 'can', 'thereby', 'everywhere', 'three', 'under', 'more', 'through', 'along', 'how', 'must', 'least', 'ever', 'together', 'whither', 'whom', 'done', 'do', '‘ve', 'them', 'with', 'down', 'first', 'also', 'between', 'then', 'still', 'once', 'which', 'another', 'eleven', 'serious', 'becoming', 'have', \"n't\", 'myself', 'noone', 'on', 'if', 'might', 'although', 'fifteen', 'its', 'themselves', 'him', 'when'}\n"
     ]
    }
   ],
   "source": [
    "print(nlp.Defaults.stop_words)"
   ]
  },
  {
   "cell_type": "code",
   "execution_count": 4,
   "id": "d14cfad0-de3c-4899-b7b6-954af9c80ecd",
   "metadata": {},
   "outputs": [
    {
     "data": {
      "text/plain": [
       "326"
      ]
     },
     "execution_count": 4,
     "metadata": {},
     "output_type": "execute_result"
    }
   ],
   "source": [
    "len(nlp.Defaults.stop_words)"
   ]
  },
  {
   "cell_type": "code",
   "execution_count": 6,
   "id": "ed1c579d-ae94-4925-a67d-52cdf68dae0f",
   "metadata": {},
   "outputs": [
    {
     "data": {
      "text/plain": [
       "True"
      ]
     },
     "execution_count": 6,
     "metadata": {},
     "output_type": "execute_result"
    }
   ],
   "source": [
    "nlp.vocab['is'].is_stop"
   ]
  },
  {
   "cell_type": "code",
   "execution_count": 7,
   "id": "2e588907-647e-4add-ac2a-7aacb89a1b8c",
   "metadata": {},
   "outputs": [
    {
     "data": {
      "text/plain": [
       "False"
      ]
     },
     "execution_count": 7,
     "metadata": {},
     "output_type": "execute_result"
    }
   ],
   "source": [
    "nlp.vocab['mystery'].is_stop"
   ]
  },
  {
   "cell_type": "code",
   "execution_count": 8,
   "id": "e09eff2a-32f4-4297-ab1f-3eaef53d8295",
   "metadata": {},
   "outputs": [],
   "source": [
    "nlp.Defaults.stop_words.add('btw')"
   ]
  },
  {
   "cell_type": "code",
   "execution_count": 9,
   "id": "c7cb9bc3-83fa-4db8-a13a-046d72e12237",
   "metadata": {},
   "outputs": [],
   "source": [
    "nlp.vocab['btw'].is_stop = True"
   ]
  },
  {
   "cell_type": "code",
   "execution_count": 10,
   "id": "31d673d3-bd6e-4792-b876-1742541901fe",
   "metadata": {},
   "outputs": [
    {
     "data": {
      "text/plain": [
       "327"
      ]
     },
     "execution_count": 10,
     "metadata": {},
     "output_type": "execute_result"
    }
   ],
   "source": [
    "len(nlp.Defaults.stop_words)"
   ]
  },
  {
   "cell_type": "code",
   "execution_count": 11,
   "id": "67896645-910d-49ee-97ef-0a3b6591c845",
   "metadata": {},
   "outputs": [
    {
     "data": {
      "text/plain": [
       "True"
      ]
     },
     "execution_count": 11,
     "metadata": {},
     "output_type": "execute_result"
    }
   ],
   "source": [
    "nlp.vocab['btw'].is_stop"
   ]
  },
  {
   "cell_type": "code",
   "execution_count": 12,
   "id": "4ab163db-9638-4de9-a9aa-3772df826470",
   "metadata": {},
   "outputs": [],
   "source": [
    "nlp.Defaults.stop_words.remove('beyond')"
   ]
  },
  {
   "cell_type": "code",
   "execution_count": 13,
   "id": "b36a42dd-4e3a-4bfb-b958-a036e2151f2e",
   "metadata": {},
   "outputs": [],
   "source": [
    "nlp.vocab['beyond'].is_stop = False"
   ]
  },
  {
   "cell_type": "code",
   "execution_count": 14,
   "id": "a68e3aa1-9fa7-491a-924e-410780850639",
   "metadata": {},
   "outputs": [
    {
     "data": {
      "text/plain": [
       "False"
      ]
     },
     "execution_count": 14,
     "metadata": {},
     "output_type": "execute_result"
    }
   ],
   "source": [
    "nlp.vocab['beyond'].is_stop"
   ]
  },
  {
   "cell_type": "code",
   "execution_count": null,
   "id": "eed38324-56f5-4748-9ad8-dca19a0d6c20",
   "metadata": {},
   "outputs": [],
   "source": [
    "! git add stop_words_1.ipynb\n",
    "! git commit -m \"14:37/22-01-2022\"\n",
    "! git push origin main"
   ]
  }
 ],
 "metadata": {
  "kernelspec": {
   "display_name": "Python [conda env:nlpenv]",
   "language": "python",
   "name": "conda-env-nlpenv-py"
  },
  "language_info": {
   "codemirror_mode": {
    "name": "ipython",
    "version": 3
   },
   "file_extension": ".py",
   "mimetype": "text/x-python",
   "name": "python",
   "nbconvert_exporter": "python",
   "pygments_lexer": "ipython3",
   "version": "3.7.11"
  }
 },
 "nbformat": 4,
 "nbformat_minor": 5
}
