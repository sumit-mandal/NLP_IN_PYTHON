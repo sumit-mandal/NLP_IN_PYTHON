{
 "cells": [
  {
   "cell_type": "code",
   "execution_count": 1,
   "id": "22fe12bc-0c2a-4d0e-b084-dc5a1294a6fd",
   "metadata": {},
   "outputs": [],
   "source": [
    "import spacy"
   ]
  },
  {
   "cell_type": "code",
   "execution_count": 2,
   "id": "c30fe667-4580-4aa1-99b4-f00b9487ea26",
   "metadata": {},
   "outputs": [],
   "source": [
    "nlp = spacy.load('en_core_web_sm')"
   ]
  },
  {
   "cell_type": "code",
   "execution_count": 34,
   "id": "5dc98e2d-2277-4bf0-92e1-e14a92691e53",
   "metadata": {},
   "outputs": [],
   "source": [
    "from spacy.matcher import Matcher"
   ]
  },
  {
   "cell_type": "code",
   "execution_count": 35,
   "id": "265efda1-e32a-4c6e-a881-cade2a10c452",
   "metadata": {},
   "outputs": [],
   "source": [
    "matcher = Matcher(nlp.vocab)"
   ]
  },
  {
   "cell_type": "code",
   "execution_count": 36,
   "id": "76a92c0a-edf9-457a-8075-02a8148c0484",
   "metadata": {},
   "outputs": [],
   "source": [
    "# SolarPower\n",
    "pattern1 = [{'LOWER':'solarpower'}]\n",
    "# Solar-power\n",
    "pattern2 = [{'LOWER':'solar'},{'IS_PUNCT':True},{'LOWER':'power'}]\n",
    "# Solar power\n",
    "pattern3 = [{'LOWER':'solar'},{'LOWER':'power'}]"
   ]
  },
  {
   "cell_type": "code",
   "execution_count": 37,
   "id": "2229ea99-75f5-4f0b-adb7-7ecaa0b8d944",
   "metadata": {},
   "outputs": [],
   "source": [
    "matcher.add('SolarPower',[pattern1,pattern2,pattern3],on_match = None)"
   ]
  },
  {
   "cell_type": "code",
   "execution_count": 38,
   "id": "5d7b64ba-c685-4e30-8824-e40388f9aa93",
   "metadata": {},
   "outputs": [],
   "source": [
    "doc = nlp(u\"The Solar Power industury continues to grow as solarpower increases. Solar-power is amazing\")"
   ]
  },
  {
   "cell_type": "code",
   "execution_count": 39,
   "id": "017437c9-4ea7-4c7c-8da5-5270709b553d",
   "metadata": {},
   "outputs": [],
   "source": [
    "found_matches = matcher(doc)"
   ]
  },
  {
   "cell_type": "code",
   "execution_count": 40,
   "id": "92dbb5ad-08f2-4458-a987-d6ccfe1649e6",
   "metadata": {},
   "outputs": [
    {
     "name": "stdout",
     "output_type": "stream",
     "text": [
      "[(8656102463236116519, 1, 3), (8656102463236116519, 8, 9), (8656102463236116519, 11, 14)]\n"
     ]
    }
   ],
   "source": [
    "print(found_matches)"
   ]
  },
  {
   "cell_type": "code",
   "execution_count": 41,
   "id": "6cbe346a-b008-4fce-8e22-92904e19af27",
   "metadata": {},
   "outputs": [
    {
     "name": "stdout",
     "output_type": "stream",
     "text": [
      "8656102463236116519 SolarPower 1 3 Solar Power\n",
      "8656102463236116519 SolarPower 8 9 solarpower\n",
      "8656102463236116519 SolarPower 11 14 Solar-power\n"
     ]
    }
   ],
   "source": [
    "for match_id,start,end in found_matches:\n",
    "    string_id = nlp.vocab.strings[match_id] # Get string representation\n",
    "    span = doc[start:end] #Get the matched span\n",
    "    print(match_id,string_id,start,end,span.text)"
   ]
  },
  {
   "cell_type": "code",
   "execution_count": null,
   "id": "f03b5010-d236-4f10-8460-35e91b1fed78",
   "metadata": {},
   "outputs": [],
   "source": []
  },
  {
   "cell_type": "code",
   "execution_count": 59,
   "id": "8b2c38b7-ac84-44e8-a03a-59c930c50f5a",
   "metadata": {},
   "outputs": [],
   "source": [
    "# matcher.remove('Solarpower')"
   ]
  },
  {
   "cell_type": "code",
   "execution_count": 50,
   "id": "2e0e1d7b-8aa6-4694-b4af-e0af48ebcd10",
   "metadata": {},
   "outputs": [],
   "source": [
    "# solarPower SolarPower\n",
    "pattern1 = [{'LOWER':'solarpower'}]\n",
    "#solar.power\n",
    "pattern2 = [{'LOWER'},{'IS_PUNCT':True,'OP':'*'},{'LOWER':'power'}]"
   ]
  },
  {
   "cell_type": "code",
   "execution_count": 52,
   "id": "5f9508b1-ee9d-4d89-957e-2340a771a096",
   "metadata": {},
   "outputs": [],
   "source": [
    "pattern1 = [{'LOWER': 'solarpower'}]\n",
    "pattern2 = [{'LOWER': 'solar'}, {'IS_PUNCT': True, 'OP':'*'}, {'LOWER': 'power'}]\n",
    "pattern3 = [{'LOWER': 'solarpowered'}]\n",
    "pattern4 = [{'LOWER': 'solar'}, {'IS_PUNCT': True, 'OP':'*'}, {'LOWER': 'powered'}]"
   ]
  },
  {
   "cell_type": "code",
   "execution_count": 54,
   "id": "76b8b645-a859-4826-ba13-bb28d6b31a49",
   "metadata": {},
   "outputs": [],
   "source": [
    "matcher.add('SolarPower',[pattern1,pattern2])"
   ]
  },
  {
   "cell_type": "code",
   "execution_count": 55,
   "id": "57b483eb-cc48-48a7-b1ca-5b43499042f7",
   "metadata": {},
   "outputs": [],
   "source": [
    "doc2 = nlp(u\"Solar--power is solarpower yay!\")"
   ]
  },
  {
   "cell_type": "code",
   "execution_count": 56,
   "id": "c990e50f-771a-485f-b8f3-cc1ec210c289",
   "metadata": {},
   "outputs": [],
   "source": [
    "found_matches = matcher(doc2)"
   ]
  },
  {
   "cell_type": "code",
   "execution_count": 57,
   "id": "b60cffdd-6af0-4235-9638-7c4f1c6626b5",
   "metadata": {},
   "outputs": [
    {
     "name": "stdout",
     "output_type": "stream",
     "text": [
      "[(8656102463236116519, 0, 3), (8656102463236116519, 4, 5)]\n"
     ]
    }
   ],
   "source": [
    "print(found_matches)"
   ]
  },
  {
   "cell_type": "markdown",
   "id": "b9564af3-f1a2-4501-b15d-5e9145397028",
   "metadata": {},
   "source": [
    "# PhraseMatcher"
   ]
  },
  {
   "cell_type": "code",
   "execution_count": 62,
   "id": "aeded3b8-be78-4fec-8a72-6d175ca60771",
   "metadata": {},
   "outputs": [],
   "source": [
    "with open('reaganomics.txt') as f:\n",
    "    doc3 = nlp(f.read())"
   ]
  },
  {
   "cell_type": "code",
   "execution_count": 70,
   "id": "c3dcaf55-01d7-4581-a6cf-e5d38e291144",
   "metadata": {},
   "outputs": [],
   "source": [
    "phrase_list = ['voodoo economics', 'supply-side economics', 'trickle-down economics', 'free-market economics']\n"
   ]
  },
  {
   "cell_type": "code",
   "execution_count": 71,
   "id": "31d6b5ac-d9b4-4218-b1bd-cc6f4ed93aea",
   "metadata": {},
   "outputs": [],
   "source": [
    "phrase_patterns = [nlp(text) for text in phrase_list]"
   ]
  },
  {
   "cell_type": "code",
   "execution_count": 72,
   "id": "4392cb39-2cf3-41f4-b3e9-26ed45b1ac4f",
   "metadata": {},
   "outputs": [
    {
     "data": {
      "text/plain": [
       "[voodoo economics,\n",
       " supply-side economics,\n",
       " trickle-down economics,\n",
       " free-market economics]"
      ]
     },
     "execution_count": 72,
     "metadata": {},
     "output_type": "execute_result"
    }
   ],
   "source": [
    "phrase_patterns"
   ]
  },
  {
   "cell_type": "code",
   "execution_count": 84,
   "id": "a51d72f0-32c5-414b-8388-b2a84f310597",
   "metadata": {},
   "outputs": [],
   "source": [
    "matcher.add('EconMatcher',[*phrase_patterns])"
   ]
  },
  {
   "cell_type": "code",
   "execution_count": 85,
   "id": "56bd53f9-3e5a-44e8-9941-dad016da4b11",
   "metadata": {},
   "outputs": [],
   "source": [
    "found_matches = matcher(doc3)"
   ]
  },
  {
   "cell_type": "code",
   "execution_count": 88,
   "id": "b7aef6a6-81d9-423d-97ba-a65ba6a796b7",
   "metadata": {},
   "outputs": [
    {
     "name": "stdout",
     "output_type": "stream",
     "text": [
      "3680293220734633682 EconMatcher 41 45 supply-side economics\n",
      "3680293220734633682 EconMatcher 49 53 trickle-down economics\n",
      "3680293220734633682 EconMatcher 54 56 voodoo economics\n",
      "3680293220734633682 EconMatcher 61 65 free-market economics\n",
      "3680293220734633682 EconMatcher 673 677 supply-side economics\n",
      "3680293220734633682 EconMatcher 2987 2991 trickle-down economics\n"
     ]
    }
   ],
   "source": [
    "for match_id,start,end in found_matches:\n",
    "    string_id = nlp.vocab.strings[match_id]\n",
    "    span = doc3[start:end]\n",
    "    print(match_id,string_id,start,end,span.text)"
   ]
  },
  {
   "cell_type": "code",
   "execution_count": null,
   "id": "c6f42b00-6bb4-462a-b1fc-9474ccc216e9",
   "metadata": {},
   "outputs": [],
   "source": [
    "! git add Phrase_maching_and_Vocabulary.ipynb\n",
    "! git commit -m \"15:37/23-01-2022\"\n",
    "! git push origin main"
   ]
  },
  {
   "cell_type": "code",
   "execution_count": null,
   "id": "e3edeff8-17dd-4367-a87d-3575c6c854c0",
   "metadata": {},
   "outputs": [],
   "source": []
  },
  {
   "cell_type": "code",
   "execution_count": null,
   "id": "5d0b73c2-32c3-4af6-808e-934978f7a316",
   "metadata": {},
   "outputs": [],
   "source": []
  },
  {
   "cell_type": "code",
   "execution_count": null,
   "id": "31d932b1-8912-41e5-b805-05ae3316c978",
   "metadata": {},
   "outputs": [],
   "source": []
  },
  {
   "cell_type": "code",
   "execution_count": null,
   "id": "8f521f9e-3779-4f5b-a4c8-93d64672f47e",
   "metadata": {},
   "outputs": [],
   "source": []
  },
  {
   "cell_type": "code",
   "execution_count": null,
   "id": "a88eebf8-0cb8-42fa-ba0b-dbd1404debea",
   "metadata": {},
   "outputs": [],
   "source": []
  },
  {
   "cell_type": "code",
   "execution_count": null,
   "id": "428c91e0-9f38-456e-b996-d9d29b5f445d",
   "metadata": {},
   "outputs": [],
   "source": []
  },
  {
   "cell_type": "code",
   "execution_count": null,
   "id": "4d0402dc-be18-4992-bd15-9642e78052cf",
   "metadata": {},
   "outputs": [],
   "source": []
  }
 ],
 "metadata": {
  "kernelspec": {
   "display_name": "Python [conda env:nlpenv]",
   "language": "python",
   "name": "conda-env-nlpenv-py"
  },
  "language_info": {
   "codemirror_mode": {
    "name": "ipython",
    "version": 3
   },
   "file_extension": ".py",
   "mimetype": "text/x-python",
   "name": "python",
   "nbconvert_exporter": "python",
   "pygments_lexer": "ipython3",
   "version": "3.7.11"
  }
 },
 "nbformat": 4,
 "nbformat_minor": 5
}
