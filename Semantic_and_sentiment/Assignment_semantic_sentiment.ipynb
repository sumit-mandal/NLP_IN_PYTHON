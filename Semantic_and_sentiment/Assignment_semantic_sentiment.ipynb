{
 "cells": [
  {
   "cell_type": "code",
   "execution_count": 2,
   "id": "50def813-0942-402e-bde2-ef3fcb8dd800",
   "metadata": {},
   "outputs": [],
   "source": [
    "import spacy\n",
    "nlp = spacy.load('en_core_web_lg')"
   ]
  },
  {
   "cell_type": "code",
   "execution_count": 29,
   "id": "44550626-21ab-4986-952d-11ae69bf1dd6",
   "metadata": {},
   "outputs": [],
   "source": [
    "word1 = nlp.vocab['king'].vector\n",
    "word2 = nlp.vocab['man'].vector\n",
    "word3 = nlp.vocab['woman'].vector"
   ]
  },
  {
   "cell_type": "code",
   "execution_count": 30,
   "id": "9138fda2-5836-4776-a7b7-e9272ef1c105",
   "metadata": {},
   "outputs": [],
   "source": [
    "# import spatial and define cosine similarity\n",
    "\n",
    "from scipy import spatial\n",
    "cosine_similarity = lambda x,y: 1 - spatial.distance.cosine(x,y)"
   ]
  },
  {
   "cell_type": "code",
   "execution_count": 31,
   "id": "e580c52c-3e41-4672-ae5f-a52550ff5207",
   "metadata": {
    "collapsed": true,
    "jupyter": {
     "outputs_hidden": true
    },
    "tags": []
   },
   "outputs": [
    {
     "data": {
      "text/plain": [
       "array([ 5.14087021e-01, -2.78459996e-01,  2.42767006e-01,  4.54899669e-02,\n",
       "       -2.59425014e-01, -3.19999963e-01,  3.23920012e-01, -6.71030045e-01,\n",
       "       -9.98499990e-02,  1.91499996e+00, -5.68080008e-01, -2.74451017e-01,\n",
       "       -1.49906695e-01,  8.01083148e-02, -2.34764010e-01, -1.10950008e-01,\n",
       "       -1.02593988e-01,  8.53819966e-01, -2.68564999e-01,  3.85140002e-01,\n",
       "       -1.36149988e-01,  6.35029972e-01, -7.62044966e-01, -2.52770007e-01,\n",
       "       -6.75969958e-01,  3.89851004e-01, -2.89680034e-01,  1.75860003e-01,\n",
       "       -5.16229987e-01,  5.21373034e-01, -1.89909995e-01,  6.73759937e-01,\n",
       "        1.17550008e-01, -4.69896019e-01,  5.88999987e-01,  1.29447982e-01,\n",
       "       -5.71900010e-01, -5.47450066e-01, -4.84210014e-01,  5.85503951e-02,\n",
       "        4.82379973e-01, -2.86769986e-01, -2.01718003e-01, -4.74729985e-01,\n",
       "        3.43068987e-01, -2.28827983e-01, -1.76439017e-01,  6.05450034e-01,\n",
       "        2.07139999e-01, -2.89762974e-01, -7.63288975e-01,  4.37090009e-01,\n",
       "       -2.06220001e-01, -4.20252979e-01,  1.98040009e-01,  3.18709970e-01,\n",
       "       -9.51815993e-02, -3.23054016e-01, -6.02343976e-01,  2.33427018e-01,\n",
       "       -2.15409994e-02, -6.29774988e-01,  3.72432500e-01,  3.41740012e-01,\n",
       "        5.81782043e-01,  7.02129960e-01,  7.19299972e-01,  3.28493983e-01,\n",
       "        3.36353004e-01,  1.06999278e-03, -5.53239942e-01, -2.46219993e-01,\n",
       "       -6.37116969e-01, -1.72280014e-01,  8.97620022e-01, -1.38548493e-01,\n",
       "       -5.71600199e-02,  6.41870022e-01,  3.89845997e-01, -3.98499995e-01,\n",
       "       -7.28532076e-01,  9.17530134e-02, -3.40600014e-01,  3.46671015e-01,\n",
       "       -2.63424516e-01,  3.68355006e-01,  8.78340006e-01, -1.57473043e-01,\n",
       "       -4.29450005e-01, -4.91259992e-01, -1.23234093e-02,  3.27509999e-01,\n",
       "        1.44889995e-01, -3.27081025e-01,  9.45929945e-01, -8.07909966e-01,\n",
       "       -2.07101002e-01, -8.87000561e-03, -5.59080057e-02,  7.93069959e-01,\n",
       "        3.58245999e-01,  6.05069995e-01,  1.01848006e-01, -1.89061001e-01,\n",
       "        1.09030008e-02, -7.64109969e-01, -5.05369961e-01, -1.11367017e-01,\n",
       "        6.56607985e-01, -1.48448005e-01,  1.30866021e-01,  6.62039995e-01,\n",
       "       -1.54300034e-02, -4.17466015e-01, -4.54553008e-01, -5.05975008e-01,\n",
       "        4.15473014e-01,  4.00425017e-01,  7.88707018e-01, -5.19399941e-02,\n",
       "       -3.91889989e-01,  8.31609964e-02,  4.58730012e-01,  1.23339996e-01,\n",
       "        2.39246994e-01,  3.81098986e-01,  1.86000004e-01,  2.69684941e-02,\n",
       "       -5.55605292e-01,  2.53284007e-01, -6.67639971e-01, -5.55985987e-01,\n",
       "       -3.71130019e-01, -6.53919995e-01, -1.09452009e-01, -6.04629993e-01,\n",
       "       -4.62760001e-01,  3.97581995e-01, -3.26649994e-01,  2.60998994e-01,\n",
       "       -2.09120011e+00, -2.76019007e-01,  2.68036008e-01, -3.35714996e-01,\n",
       "       -4.75513011e-01, -2.83890069e-02,  4.40270007e-01,  2.24150002e-01,\n",
       "       -4.50639009e-01, -6.16590083e-01,  1.10599995e-01, -3.00589710e-01,\n",
       "        1.24530017e-01,  2.99279988e-01,  3.03467005e-01, -3.42969984e-01,\n",
       "        3.93694013e-01, -5.84149957e-01, -1.88180000e-01,  2.98162013e-01,\n",
       "       -1.80879980e-01, -3.70599926e-02,  4.09860015e-02, -8.07899833e-02,\n",
       "        3.92280012e-01, -4.94572997e-01,  4.01719987e-01,  8.48469973e-01,\n",
       "       -1.94183022e-01,  4.29439992e-01, -6.07819974e-01, -9.71959978e-02,\n",
       "        3.55786979e-01, -1.79980025e-02, -5.83269954e-01, -2.50129998e-01,\n",
       "        2.80330002e-01, -3.72725993e-01, -7.41009951e-01,  1.03881419e-01,\n",
       "        8.04000199e-02, -1.64650023e-01,  1.09247290e-01, -5.68639994e-01,\n",
       "        4.11399961e-01,  5.69249988e-01, -2.14549989e-01, -1.56975001e-01,\n",
       "        9.64879990e-02,  2.01149940e-01, -9.81989980e-01, -9.00639057e-01,\n",
       "        1.57496989e-01, -1.24968991e-01,  9.11729932e-02, -5.17108977e-01,\n",
       "        6.34269863e-02,  1.72169998e-01, -2.36945987e-01, -7.58899987e-01,\n",
       "        5.74868977e-01,  6.10739946e-01,  8.88329893e-02, -2.59585023e-01,\n",
       "       -9.03399587e-02, -8.53200257e-02,  1.69609979e-01, -7.29799643e-03,\n",
       "       -2.05680996e-01, -1.93440005e-01, -4.92264986e-01,  3.19920003e-01,\n",
       "       -3.66147995e-01,  5.69279015e-01,  6.27799928e-02,  7.91899860e-02,\n",
       "       -3.93792808e-01,  4.87831026e-01, -3.85988951e-02,  7.52799988e-01,\n",
       "        1.74212992e-01, -6.07100964e-01,  4.81240004e-01,  1.49755001e-01,\n",
       "        4.32273030e-01,  2.77104974e-01,  4.56589013e-01, -3.32702011e-01,\n",
       "       -2.80999988e-01,  6.35839045e-01,  1.15425006e-01,  7.80760050e-02,\n",
       "        3.17489982e-01, -4.80073988e-01,  4.07790095e-02, -8.21070611e-01,\n",
       "       -1.63500011e-03, -3.97460014e-01, -9.85880196e-02, -5.31642020e-01,\n",
       "       -4.52499986e-02, -4.23010021e-01,  1.44284993e-01, -7.62080014e-01,\n",
       "        2.15179995e-01, -7.05516994e-01,  6.44015014e-01, -9.44310054e-02,\n",
       "       -5.36169946e-01, -1.31442308e+00,  4.51058030e-01,  1.44240022e-01,\n",
       "        3.84460092e-02, -1.80320218e-02, -2.95219988e-01,  4.90060002e-01,\n",
       "        3.83020639e-02, -1.70519948e-02, -7.32708037e-01,  5.04490495e-01,\n",
       "        1.77098006e-01,  5.36670089e-02, -2.40814000e-01, -8.20799917e-02,\n",
       "        2.19249994e-01, -4.58490014e-01,  3.68449986e-01,  3.09300005e-01,\n",
       "       -1.21967995e+00, -2.55998999e-01, -8.38758051e-01, -1.99926004e-01,\n",
       "       -3.38140011e-01, -8.05199146e-03,  1.42598450e-02, -3.56069952e-01,\n",
       "        8.31499994e-02,  2.89311975e-01,  5.29001653e-03, -1.11837029e-01,\n",
       "        1.28127396e+00,  8.09929967e-01,  5.58990002e-01, -2.18623012e-01,\n",
       "       -1.70580015e-01,  7.43115008e-01, -1.40369982e-01,  2.97093987e-01,\n",
       "       -3.28552961e-01, -3.10106993e-01,  1.80748999e-01,  3.05629998e-01,\n",
       "        2.17199922e-02, -4.68929976e-01, -1.95840016e-01,  6.82327509e-01,\n",
       "       -2.89168000e-01, -7.09619969e-02,  8.64340067e-01, -3.79067004e-01],\n",
       "      dtype=float32)"
      ]
     },
     "execution_count": 31,
     "metadata": {},
     "output_type": "execute_result"
    }
   ],
   "source": [
    "new_vector = word1-word2+word3\n",
    "new_vector"
   ]
  },
  {
   "cell_type": "code",
   "execution_count": 57,
   "id": "42e09c55-4ac4-4e17-896d-67065e84af36",
   "metadata": {},
   "outputs": [
    {
     "name": "stdout",
     "output_type": "stream",
     "text": [
      "['king', 'woman', 'she', 'lion', 'who', 'wolf', 'when', 'dare', 'cat', 'was']\n"
     ]
    }
   ],
   "source": [
    "# Top 10 closest vector\n",
    "\n",
    "computed_similarities = []\n",
    "\n",
    "for word in nlp.vocab:\n",
    "    if word.has_vector:\n",
    "        if word.is_lower:\n",
    "            if word.is_alpha: # Check if all the letter are alphabet character\n",
    "                similarity = cosine_similarity(new_vector,word.vector)\n",
    "                computed_similarities.append((word,similarity))\n",
    "                \n",
    "\n",
    "computed_similarities = sorted(computed_similarities, key=lambda item: -item[1])\n",
    "print([w[0].text for w in computed_similarities[:10]])"
   ]
  },
  {
   "cell_type": "markdown",
   "id": "163b005c-984d-4348-b1ef-8833e2de50eb",
   "metadata": {},
   "source": [
    "#### Write a function that takes in 3 strings perform a-b+c and returns top-ten result"
   ]
  },
  {
   "cell_type": "code",
   "execution_count": 58,
   "id": "1c5581e2-42c6-46a9-9f20-4964a80ab95f",
   "metadata": {},
   "outputs": [],
   "source": [
    "# Import spatial and define a cosine_similarity function\n",
    "from scipy import spatial\n",
    "\n",
    "cosine_similarity = lambda x, y: 1 - spatial.distance.cosine(x, y)\n",
    "\n",
    "def vector_math(a,b,c):\n",
    "    new_vector = nlp.vocab[a].vector-nlp.vocab[b].vector+nlp.vocab[c].vector\n",
    "    computed_similarities = []\n",
    "    \n",
    "    for word in nlp.vocab:\n",
    "        if word.has_vector:\n",
    "            if word.is_lower:\n",
    "                if word.is_alpha:\n",
    "                    similarity = cosine_similarity(new_vector,word.vector)\n",
    "                    computed_similarities.append((word,similarity))\n",
    "                    \n",
    "    computed_similarities = sorted(computed_similarities,key=lambda item: -item[1])\n",
    "    \n",
    "    return [w[0].text for w in computed_similarities[:10]]"
   ]
  },
  {
   "cell_type": "code",
   "execution_count": 59,
   "id": "73a28d31-5c49-446c-bfd9-b5531aa22c3b",
   "metadata": {},
   "outputs": [
    {
     "data": {
      "text/plain": [
       "['wolf', 'dog', 'lion', 'animal', 'man', 'he', 'they', 'she', 'woman', 'who']"
      ]
     },
     "execution_count": 59,
     "metadata": {},
     "output_type": "execute_result"
    }
   ],
   "source": [
    "vector_math('wolf','cat','dog')"
   ]
  },
  {
   "cell_type": "code",
   "execution_count": 60,
   "id": "49215dca-bb78-41a4-a1ca-c14be0d72a43",
   "metadata": {},
   "outputs": [
    {
     "data": {
      "text/plain": [
       "['tigress',\n",
       " 'animal',\n",
       " 'cat',\n",
       " 'dog',\n",
       " 'wolf',\n",
       " 'woman',\n",
       " 'she',\n",
       " 'lovin',\n",
       " 'may',\n",
       " 'cause']"
      ]
     },
     "execution_count": 60,
     "metadata": {},
     "output_type": "execute_result"
    }
   ],
   "source": [
    "vector_math('animal','lion','tigress')"
   ]
  },
  {
   "cell_type": "code",
   "execution_count": 61,
   "id": "0ee8d274-fc7e-4a7d-a11e-c9f3ea39d2bf",
   "metadata": {},
   "outputs": [
    {
     "data": {
      "text/plain": [
       "['king', 'woman', 'she', 'lion', 'who', 'wolf', 'when', 'dare', 'cat', 'was']"
      ]
     },
     "execution_count": 61,
     "metadata": {},
     "output_type": "execute_result"
    }
   ],
   "source": [
    "\n",
    "# Test the function on known words:\n",
    "vector_math('king','man','woman')"
   ]
  },
  {
   "cell_type": "markdown",
   "id": "6611b2a8-d2b1-491a-a425-9580021f069c",
   "metadata": {},
   "source": [
    "### Perform vader sentiment analysis"
   ]
  },
  {
   "cell_type": "code",
   "execution_count": 62,
   "id": "a1a71bc9-113b-444b-a738-401decd8c38c",
   "metadata": {},
   "outputs": [],
   "source": [
    "from nltk.sentiment import SentimentIntensityAnalyzer\n",
    "\n",
    "sid = SentimentIntensityAnalyzer()"
   ]
  },
  {
   "cell_type": "code",
   "execution_count": 63,
   "id": "c59ca1a6-0120-4c1c-b7cb-d41838d3a7ba",
   "metadata": {},
   "outputs": [],
   "source": [
    "# Write a review as one continuous string (multiple sentences are ok)\n",
    "review = 'This movie portrayed real people, and was based on actual events.'"
   ]
  },
  {
   "cell_type": "code",
   "execution_count": 64,
   "id": "af45e72a-bdfe-4c17-8a02-45135b97cf1a",
   "metadata": {},
   "outputs": [
    {
     "data": {
      "text/plain": [
       "{'neg': 0.0, 'neu': 1.0, 'pos': 0.0, 'compound': 0.0}"
      ]
     },
     "execution_count": 64,
     "metadata": {},
     "output_type": "execute_result"
    }
   ],
   "source": [
    "sid.polarity_scores(review)"
   ]
  },
  {
   "cell_type": "markdown",
   "id": "b2188561-d2c2-461b-9760-1328cc453c8e",
   "metadata": {},
   "source": [
    "\n",
    "#### Write a function that takes in a review and returns a score of \"Positive\", \"Negative\" or \"Neutral\""
   ]
  },
  {
   "cell_type": "code",
   "execution_count": 79,
   "id": "76c1b35c-6dd0-41e4-8ca5-f33b86d78fc5",
   "metadata": {},
   "outputs": [],
   "source": [
    "def write_review(string):\n",
    "    scores = sid.polarity_scores(string)\n",
    "    if scores['compound'] == 0:\n",
    "        return 'neutral'\n",
    "    elif scores['compound'] > 0:\n",
    "        return 'Positive'\n",
    "    else:\n",
    "        return 'Negative'"
   ]
  },
  {
   "cell_type": "code",
   "execution_count": 80,
   "id": "1e076278-7725-4999-80b1-91cba25145b5",
   "metadata": {},
   "outputs": [
    {
     "data": {
      "text/plain": [
       "'Positive'"
      ]
     },
     "execution_count": 80,
     "metadata": {},
     "output_type": "execute_result"
    }
   ],
   "source": [
    "\n",
    "write_review('THis is awesome')"
   ]
  },
  {
   "cell_type": "code",
   "execution_count": null,
   "id": "899b004d-fe8b-4d35-af56-9b5911c23a79",
   "metadata": {},
   "outputs": [],
   "source": [
    "! git add Assignment_semantic_sentiment.ipynb\n",
    "! git commit -m \"02:55/30-01-2022\"\n",
    "! git push origin main"
   ]
  },
  {
   "cell_type": "code",
   "execution_count": null,
   "id": "8f0fedaa-4944-4fb7-b7c9-586963d67e34",
   "metadata": {},
   "outputs": [],
   "source": []
  }
 ],
 "metadata": {
  "kernelspec": {
   "display_name": "Python [conda env:nlpenv] *",
   "language": "python",
   "name": "conda-env-nlpenv-py"
  },
  "language_info": {
   "codemirror_mode": {
    "name": "ipython",
    "version": 3
   },
   "file_extension": ".py",
   "mimetype": "text/x-python",
   "name": "python",
   "nbconvert_exporter": "python",
   "pygments_lexer": "ipython3",
   "version": "3.7.11"
  }
 },
 "nbformat": 4,
 "nbformat_minor": 5
}
