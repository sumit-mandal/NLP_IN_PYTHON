{
 "cells": [
  {
   "cell_type": "code",
   "execution_count": 1,
   "id": "49647301-be52-4008-aff5-ec7bfd42b184",
   "metadata": {},
   "outputs": [],
   "source": [
    "import numpy as np\n",
    "import pandas as pd"
   ]
  },
  {
   "cell_type": "code",
   "execution_count": 3,
   "id": "ce3b4b77-563d-4d36-bfe0-75ade55806ad",
   "metadata": {},
   "outputs": [],
   "source": [
    "df = pd.read_csv('../TextFiles/moviereviews.tsv',sep='\\t')"
   ]
  },
  {
   "cell_type": "code",
   "execution_count": 4,
   "id": "838f4f6c-fca1-4f4a-9776-ad9f52353f8a",
   "metadata": {},
   "outputs": [
    {
     "data": {
      "text/html": [
       "<div>\n",
       "<style scoped>\n",
       "    .dataframe tbody tr th:only-of-type {\n",
       "        vertical-align: middle;\n",
       "    }\n",
       "\n",
       "    .dataframe tbody tr th {\n",
       "        vertical-align: top;\n",
       "    }\n",
       "\n",
       "    .dataframe thead th {\n",
       "        text-align: right;\n",
       "    }\n",
       "</style>\n",
       "<table border=\"1\" class=\"dataframe\">\n",
       "  <thead>\n",
       "    <tr style=\"text-align: right;\">\n",
       "      <th></th>\n",
       "      <th>label</th>\n",
       "      <th>review</th>\n",
       "    </tr>\n",
       "  </thead>\n",
       "  <tbody>\n",
       "    <tr>\n",
       "      <th>0</th>\n",
       "      <td>neg</td>\n",
       "      <td>how do films like mouse hunt get into theatres...</td>\n",
       "    </tr>\n",
       "    <tr>\n",
       "      <th>1</th>\n",
       "      <td>neg</td>\n",
       "      <td>some talented actresses are blessed with a dem...</td>\n",
       "    </tr>\n",
       "    <tr>\n",
       "      <th>2</th>\n",
       "      <td>pos</td>\n",
       "      <td>this has been an extraordinary year for austra...</td>\n",
       "    </tr>\n",
       "    <tr>\n",
       "      <th>3</th>\n",
       "      <td>pos</td>\n",
       "      <td>according to hollywood movies made in last few...</td>\n",
       "    </tr>\n",
       "    <tr>\n",
       "      <th>4</th>\n",
       "      <td>neg</td>\n",
       "      <td>my first press screening of 1998 and already i...</td>\n",
       "    </tr>\n",
       "    <tr>\n",
       "      <th>...</th>\n",
       "      <td>...</td>\n",
       "      <td>...</td>\n",
       "    </tr>\n",
       "    <tr>\n",
       "      <th>1995</th>\n",
       "      <td>pos</td>\n",
       "      <td>i like movies with albert brooks , and i reall...</td>\n",
       "    </tr>\n",
       "    <tr>\n",
       "      <th>1996</th>\n",
       "      <td>pos</td>\n",
       "      <td>it might surprise some to know that joel and e...</td>\n",
       "    </tr>\n",
       "    <tr>\n",
       "      <th>1997</th>\n",
       "      <td>pos</td>\n",
       "      <td>the verdict : spine-chilling drama from horror...</td>\n",
       "    </tr>\n",
       "    <tr>\n",
       "      <th>1998</th>\n",
       "      <td>pos</td>\n",
       "      <td>i want to correct what i wrote in a former ret...</td>\n",
       "    </tr>\n",
       "    <tr>\n",
       "      <th>1999</th>\n",
       "      <td>pos</td>\n",
       "      <td>a couple of months ago , when i first download...</td>\n",
       "    </tr>\n",
       "  </tbody>\n",
       "</table>\n",
       "<p>2000 rows × 2 columns</p>\n",
       "</div>"
      ],
      "text/plain": [
       "     label                                             review\n",
       "0      neg  how do films like mouse hunt get into theatres...\n",
       "1      neg  some talented actresses are blessed with a dem...\n",
       "2      pos  this has been an extraordinary year for austra...\n",
       "3      pos  according to hollywood movies made in last few...\n",
       "4      neg  my first press screening of 1998 and already i...\n",
       "...    ...                                                ...\n",
       "1995   pos  i like movies with albert brooks , and i reall...\n",
       "1996   pos  it might surprise some to know that joel and e...\n",
       "1997   pos  the verdict : spine-chilling drama from horror...\n",
       "1998   pos  i want to correct what i wrote in a former ret...\n",
       "1999   pos  a couple of months ago , when i first download...\n",
       "\n",
       "[2000 rows x 2 columns]"
      ]
     },
     "execution_count": 4,
     "metadata": {},
     "output_type": "execute_result"
    }
   ],
   "source": [
    "df"
   ]
  },
  {
   "cell_type": "code",
   "execution_count": 5,
   "id": "781e1252-10dd-453f-95e2-3c465584bf7a",
   "metadata": {},
   "outputs": [],
   "source": [
    "df.dropna(inplace=True)"
   ]
  },
  {
   "cell_type": "code",
   "execution_count": 6,
   "id": "eacd456c-3fcc-42fc-b6cd-75b1d011174c",
   "metadata": {},
   "outputs": [],
   "source": [
    "blanks = []\n",
    "for i,lb,rv in df.itertuples():\n",
    "    if type(rv) == str:\n",
    "        if rv.isspace():\n",
    "            blanks.append(i)"
   ]
  },
  {
   "cell_type": "code",
   "execution_count": 7,
   "id": "e54e38c4-4c4f-4903-b772-56fed51f215e",
   "metadata": {},
   "outputs": [
    {
     "data": {
      "text/plain": [
       "[57,\n",
       " 71,\n",
       " 147,\n",
       " 151,\n",
       " 283,\n",
       " 307,\n",
       " 313,\n",
       " 323,\n",
       " 343,\n",
       " 351,\n",
       " 427,\n",
       " 501,\n",
       " 633,\n",
       " 675,\n",
       " 815,\n",
       " 851,\n",
       " 977,\n",
       " 1079,\n",
       " 1299,\n",
       " 1455,\n",
       " 1493,\n",
       " 1525,\n",
       " 1531,\n",
       " 1763,\n",
       " 1851,\n",
       " 1905,\n",
       " 1993]"
      ]
     },
     "execution_count": 7,
     "metadata": {},
     "output_type": "execute_result"
    }
   ],
   "source": [
    "blanks"
   ]
  },
  {
   "cell_type": "code",
   "execution_count": 8,
   "id": "e68a7c49-9e4f-4f98-87ab-d05a0eea2f9b",
   "metadata": {},
   "outputs": [],
   "source": [
    "df.drop(blanks,inplace=True)"
   ]
  },
  {
   "cell_type": "code",
   "execution_count": 14,
   "id": "eed7087f-331e-4f8d-bf3e-64f07d0b46cc",
   "metadata": {},
   "outputs": [
    {
     "data": {
      "text/plain": [
       "neg    969\n",
       "pos    969\n",
       "Name: label, dtype: int64"
      ]
     },
     "execution_count": 14,
     "metadata": {},
     "output_type": "execute_result"
    }
   ],
   "source": [
    "df['label'].value_counts()"
   ]
  },
  {
   "cell_type": "code",
   "execution_count": 15,
   "id": "f34b3b66-046e-4189-9e2a-decd6e2631f0",
   "metadata": {},
   "outputs": [],
   "source": [
    "from nltk.sentiment.vader import SentimentIntensityAnalyzer\n",
    "sid = SentimentIntensityAnalyzer()"
   ]
  },
  {
   "cell_type": "code",
   "execution_count": 22,
   "id": "8cc89f83-1088-4c11-bca9-aa7506877be6",
   "metadata": {},
   "outputs": [
    {
     "data": {
      "text/plain": [
       "{'neg': 0.121, 'neu': 0.778, 'pos': 0.101, 'compound': -0.9125}"
      ]
     },
     "execution_count": 22,
     "metadata": {},
     "output_type": "execute_result"
    }
   ],
   "source": [
    "sid.polarity_scores(df['review'].iloc[0])"
   ]
  },
  {
   "cell_type": "code",
   "execution_count": 27,
   "id": "ea46efc3-cb03-410b-85f8-6f148bfc5884",
   "metadata": {},
   "outputs": [],
   "source": [
    "df['scores'] = df['review'].apply(lambda review: sid.polarity_scores(review))"
   ]
  },
  {
   "cell_type": "code",
   "execution_count": 28,
   "id": "ac543236-b02d-4778-aafc-a314db04cc83",
   "metadata": {},
   "outputs": [
    {
     "data": {
      "text/html": [
       "<div>\n",
       "<style scoped>\n",
       "    .dataframe tbody tr th:only-of-type {\n",
       "        vertical-align: middle;\n",
       "    }\n",
       "\n",
       "    .dataframe tbody tr th {\n",
       "        vertical-align: top;\n",
       "    }\n",
       "\n",
       "    .dataframe thead th {\n",
       "        text-align: right;\n",
       "    }\n",
       "</style>\n",
       "<table border=\"1\" class=\"dataframe\">\n",
       "  <thead>\n",
       "    <tr style=\"text-align: right;\">\n",
       "      <th></th>\n",
       "      <th>label</th>\n",
       "      <th>review</th>\n",
       "      <th>scores</th>\n",
       "    </tr>\n",
       "  </thead>\n",
       "  <tbody>\n",
       "    <tr>\n",
       "      <th>0</th>\n",
       "      <td>neg</td>\n",
       "      <td>how do films like mouse hunt get into theatres...</td>\n",
       "      <td>{'neg': 0.121, 'neu': 0.778, 'pos': 0.101, 'co...</td>\n",
       "    </tr>\n",
       "    <tr>\n",
       "      <th>1</th>\n",
       "      <td>neg</td>\n",
       "      <td>some talented actresses are blessed with a dem...</td>\n",
       "      <td>{'neg': 0.12, 'neu': 0.775, 'pos': 0.105, 'com...</td>\n",
       "    </tr>\n",
       "    <tr>\n",
       "      <th>2</th>\n",
       "      <td>pos</td>\n",
       "      <td>this has been an extraordinary year for austra...</td>\n",
       "      <td>{'neg': 0.068, 'neu': 0.781, 'pos': 0.15, 'com...</td>\n",
       "    </tr>\n",
       "    <tr>\n",
       "      <th>3</th>\n",
       "      <td>pos</td>\n",
       "      <td>according to hollywood movies made in last few...</td>\n",
       "      <td>{'neg': 0.071, 'neu': 0.782, 'pos': 0.147, 'co...</td>\n",
       "    </tr>\n",
       "    <tr>\n",
       "      <th>4</th>\n",
       "      <td>neg</td>\n",
       "      <td>my first press screening of 1998 and already i...</td>\n",
       "      <td>{'neg': 0.091, 'neu': 0.817, 'pos': 0.093, 'co...</td>\n",
       "    </tr>\n",
       "    <tr>\n",
       "      <th>...</th>\n",
       "      <td>...</td>\n",
       "      <td>...</td>\n",
       "      <td>...</td>\n",
       "    </tr>\n",
       "    <tr>\n",
       "      <th>1995</th>\n",
       "      <td>pos</td>\n",
       "      <td>i like movies with albert brooks , and i reall...</td>\n",
       "      <td>{'neg': 0.073, 'neu': 0.763, 'pos': 0.164, 'co...</td>\n",
       "    </tr>\n",
       "    <tr>\n",
       "      <th>1996</th>\n",
       "      <td>pos</td>\n",
       "      <td>it might surprise some to know that joel and e...</td>\n",
       "      <td>{'neg': 0.238, 'neu': 0.688, 'pos': 0.074, 'co...</td>\n",
       "    </tr>\n",
       "    <tr>\n",
       "      <th>1997</th>\n",
       "      <td>pos</td>\n",
       "      <td>the verdict : spine-chilling drama from horror...</td>\n",
       "      <td>{'neg': 0.15, 'neu': 0.702, 'pos': 0.147, 'com...</td>\n",
       "    </tr>\n",
       "    <tr>\n",
       "      <th>1998</th>\n",
       "      <td>pos</td>\n",
       "      <td>i want to correct what i wrote in a former ret...</td>\n",
       "      <td>{'neg': 0.131, 'neu': 0.71, 'pos': 0.16, 'comp...</td>\n",
       "    </tr>\n",
       "    <tr>\n",
       "      <th>1999</th>\n",
       "      <td>pos</td>\n",
       "      <td>a couple of months ago , when i first download...</td>\n",
       "      <td>{'neg': 0.071, 'neu': 0.741, 'pos': 0.189, 'co...</td>\n",
       "    </tr>\n",
       "  </tbody>\n",
       "</table>\n",
       "<p>1938 rows × 3 columns</p>\n",
       "</div>"
      ],
      "text/plain": [
       "     label                                             review  \\\n",
       "0      neg  how do films like mouse hunt get into theatres...   \n",
       "1      neg  some talented actresses are blessed with a dem...   \n",
       "2      pos  this has been an extraordinary year for austra...   \n",
       "3      pos  according to hollywood movies made in last few...   \n",
       "4      neg  my first press screening of 1998 and already i...   \n",
       "...    ...                                                ...   \n",
       "1995   pos  i like movies with albert brooks , and i reall...   \n",
       "1996   pos  it might surprise some to know that joel and e...   \n",
       "1997   pos  the verdict : spine-chilling drama from horror...   \n",
       "1998   pos  i want to correct what i wrote in a former ret...   \n",
       "1999   pos  a couple of months ago , when i first download...   \n",
       "\n",
       "                                                 scores  \n",
       "0     {'neg': 0.121, 'neu': 0.778, 'pos': 0.101, 'co...  \n",
       "1     {'neg': 0.12, 'neu': 0.775, 'pos': 0.105, 'com...  \n",
       "2     {'neg': 0.068, 'neu': 0.781, 'pos': 0.15, 'com...  \n",
       "3     {'neg': 0.071, 'neu': 0.782, 'pos': 0.147, 'co...  \n",
       "4     {'neg': 0.091, 'neu': 0.817, 'pos': 0.093, 'co...  \n",
       "...                                                 ...  \n",
       "1995  {'neg': 0.073, 'neu': 0.763, 'pos': 0.164, 'co...  \n",
       "1996  {'neg': 0.238, 'neu': 0.688, 'pos': 0.074, 'co...  \n",
       "1997  {'neg': 0.15, 'neu': 0.702, 'pos': 0.147, 'com...  \n",
       "1998  {'neg': 0.131, 'neu': 0.71, 'pos': 0.16, 'comp...  \n",
       "1999  {'neg': 0.071, 'neu': 0.741, 'pos': 0.189, 'co...  \n",
       "\n",
       "[1938 rows x 3 columns]"
      ]
     },
     "execution_count": 28,
     "metadata": {},
     "output_type": "execute_result"
    }
   ],
   "source": [
    "df"
   ]
  },
  {
   "cell_type": "code",
   "execution_count": 29,
   "id": "10787275-55a9-42fb-ad52-7d40c6161bf3",
   "metadata": {},
   "outputs": [],
   "source": [
    "df['compound'] = df['scores'].apply(lambda d : d['compound'])"
   ]
  },
  {
   "cell_type": "code",
   "execution_count": 31,
   "id": "da16baa7-8230-45e5-8150-2f0a6e1cd0b9",
   "metadata": {},
   "outputs": [
    {
     "data": {
      "text/html": [
       "<div>\n",
       "<style scoped>\n",
       "    .dataframe tbody tr th:only-of-type {\n",
       "        vertical-align: middle;\n",
       "    }\n",
       "\n",
       "    .dataframe tbody tr th {\n",
       "        vertical-align: top;\n",
       "    }\n",
       "\n",
       "    .dataframe thead th {\n",
       "        text-align: right;\n",
       "    }\n",
       "</style>\n",
       "<table border=\"1\" class=\"dataframe\">\n",
       "  <thead>\n",
       "    <tr style=\"text-align: right;\">\n",
       "      <th></th>\n",
       "      <th>label</th>\n",
       "      <th>review</th>\n",
       "      <th>scores</th>\n",
       "      <th>compound</th>\n",
       "    </tr>\n",
       "  </thead>\n",
       "  <tbody>\n",
       "    <tr>\n",
       "      <th>0</th>\n",
       "      <td>neg</td>\n",
       "      <td>how do films like mouse hunt get into theatres...</td>\n",
       "      <td>{'neg': 0.121, 'neu': 0.778, 'pos': 0.101, 'co...</td>\n",
       "      <td>-0.9125</td>\n",
       "    </tr>\n",
       "    <tr>\n",
       "      <th>1</th>\n",
       "      <td>neg</td>\n",
       "      <td>some talented actresses are blessed with a dem...</td>\n",
       "      <td>{'neg': 0.12, 'neu': 0.775, 'pos': 0.105, 'com...</td>\n",
       "      <td>-0.8618</td>\n",
       "    </tr>\n",
       "    <tr>\n",
       "      <th>2</th>\n",
       "      <td>pos</td>\n",
       "      <td>this has been an extraordinary year for austra...</td>\n",
       "      <td>{'neg': 0.068, 'neu': 0.781, 'pos': 0.15, 'com...</td>\n",
       "      <td>0.9951</td>\n",
       "    </tr>\n",
       "    <tr>\n",
       "      <th>3</th>\n",
       "      <td>pos</td>\n",
       "      <td>according to hollywood movies made in last few...</td>\n",
       "      <td>{'neg': 0.071, 'neu': 0.782, 'pos': 0.147, 'co...</td>\n",
       "      <td>0.9972</td>\n",
       "    </tr>\n",
       "    <tr>\n",
       "      <th>4</th>\n",
       "      <td>neg</td>\n",
       "      <td>my first press screening of 1998 and already i...</td>\n",
       "      <td>{'neg': 0.091, 'neu': 0.817, 'pos': 0.093, 'co...</td>\n",
       "      <td>-0.2484</td>\n",
       "    </tr>\n",
       "    <tr>\n",
       "      <th>...</th>\n",
       "      <td>...</td>\n",
       "      <td>...</td>\n",
       "      <td>...</td>\n",
       "      <td>...</td>\n",
       "    </tr>\n",
       "    <tr>\n",
       "      <th>1995</th>\n",
       "      <td>pos</td>\n",
       "      <td>i like movies with albert brooks , and i reall...</td>\n",
       "      <td>{'neg': 0.073, 'neu': 0.763, 'pos': 0.164, 'co...</td>\n",
       "      <td>0.9991</td>\n",
       "    </tr>\n",
       "    <tr>\n",
       "      <th>1996</th>\n",
       "      <td>pos</td>\n",
       "      <td>it might surprise some to know that joel and e...</td>\n",
       "      <td>{'neg': 0.238, 'neu': 0.688, 'pos': 0.074, 'co...</td>\n",
       "      <td>-0.9993</td>\n",
       "    </tr>\n",
       "    <tr>\n",
       "      <th>1997</th>\n",
       "      <td>pos</td>\n",
       "      <td>the verdict : spine-chilling drama from horror...</td>\n",
       "      <td>{'neg': 0.15, 'neu': 0.702, 'pos': 0.147, 'com...</td>\n",
       "      <td>-0.5966</td>\n",
       "    </tr>\n",
       "    <tr>\n",
       "      <th>1998</th>\n",
       "      <td>pos</td>\n",
       "      <td>i want to correct what i wrote in a former ret...</td>\n",
       "      <td>{'neg': 0.131, 'neu': 0.71, 'pos': 0.16, 'comp...</td>\n",
       "      <td>0.9387</td>\n",
       "    </tr>\n",
       "    <tr>\n",
       "      <th>1999</th>\n",
       "      <td>pos</td>\n",
       "      <td>a couple of months ago , when i first download...</td>\n",
       "      <td>{'neg': 0.071, 'neu': 0.741, 'pos': 0.189, 'co...</td>\n",
       "      <td>0.9982</td>\n",
       "    </tr>\n",
       "  </tbody>\n",
       "</table>\n",
       "<p>1938 rows × 4 columns</p>\n",
       "</div>"
      ],
      "text/plain": [
       "     label                                             review  \\\n",
       "0      neg  how do films like mouse hunt get into theatres...   \n",
       "1      neg  some talented actresses are blessed with a dem...   \n",
       "2      pos  this has been an extraordinary year for austra...   \n",
       "3      pos  according to hollywood movies made in last few...   \n",
       "4      neg  my first press screening of 1998 and already i...   \n",
       "...    ...                                                ...   \n",
       "1995   pos  i like movies with albert brooks , and i reall...   \n",
       "1996   pos  it might surprise some to know that joel and e...   \n",
       "1997   pos  the verdict : spine-chilling drama from horror...   \n",
       "1998   pos  i want to correct what i wrote in a former ret...   \n",
       "1999   pos  a couple of months ago , when i first download...   \n",
       "\n",
       "                                                 scores  compound  \n",
       "0     {'neg': 0.121, 'neu': 0.778, 'pos': 0.101, 'co...   -0.9125  \n",
       "1     {'neg': 0.12, 'neu': 0.775, 'pos': 0.105, 'com...   -0.8618  \n",
       "2     {'neg': 0.068, 'neu': 0.781, 'pos': 0.15, 'com...    0.9951  \n",
       "3     {'neg': 0.071, 'neu': 0.782, 'pos': 0.147, 'co...    0.9972  \n",
       "4     {'neg': 0.091, 'neu': 0.817, 'pos': 0.093, 'co...   -0.2484  \n",
       "...                                                 ...       ...  \n",
       "1995  {'neg': 0.073, 'neu': 0.763, 'pos': 0.164, 'co...    0.9991  \n",
       "1996  {'neg': 0.238, 'neu': 0.688, 'pos': 0.074, 'co...   -0.9993  \n",
       "1997  {'neg': 0.15, 'neu': 0.702, 'pos': 0.147, 'com...   -0.5966  \n",
       "1998  {'neg': 0.131, 'neu': 0.71, 'pos': 0.16, 'comp...    0.9387  \n",
       "1999  {'neg': 0.071, 'neu': 0.741, 'pos': 0.189, 'co...    0.9982  \n",
       "\n",
       "[1938 rows x 4 columns]"
      ]
     },
     "execution_count": 31,
     "metadata": {},
     "output_type": "execute_result"
    }
   ],
   "source": [
    "df"
   ]
  },
  {
   "cell_type": "code",
   "execution_count": 33,
   "id": "49f46c05-689c-4634-8df4-e064fb685a0d",
   "metadata": {},
   "outputs": [],
   "source": [
    "df['comp_score'] = df['compound'].apply(lambda score: 'pos' if score >= 0 else 'neg')"
   ]
  },
  {
   "cell_type": "code",
   "execution_count": 34,
   "id": "13e3fd7b-bd96-4d35-a633-55db803921f7",
   "metadata": {},
   "outputs": [
    {
     "data": {
      "text/html": [
       "<div>\n",
       "<style scoped>\n",
       "    .dataframe tbody tr th:only-of-type {\n",
       "        vertical-align: middle;\n",
       "    }\n",
       "\n",
       "    .dataframe tbody tr th {\n",
       "        vertical-align: top;\n",
       "    }\n",
       "\n",
       "    .dataframe thead th {\n",
       "        text-align: right;\n",
       "    }\n",
       "</style>\n",
       "<table border=\"1\" class=\"dataframe\">\n",
       "  <thead>\n",
       "    <tr style=\"text-align: right;\">\n",
       "      <th></th>\n",
       "      <th>label</th>\n",
       "      <th>review</th>\n",
       "      <th>scores</th>\n",
       "      <th>compound</th>\n",
       "      <th>comp_score</th>\n",
       "    </tr>\n",
       "  </thead>\n",
       "  <tbody>\n",
       "    <tr>\n",
       "      <th>0</th>\n",
       "      <td>neg</td>\n",
       "      <td>how do films like mouse hunt get into theatres...</td>\n",
       "      <td>{'neg': 0.121, 'neu': 0.778, 'pos': 0.101, 'co...</td>\n",
       "      <td>-0.9125</td>\n",
       "      <td>neg</td>\n",
       "    </tr>\n",
       "    <tr>\n",
       "      <th>1</th>\n",
       "      <td>neg</td>\n",
       "      <td>some talented actresses are blessed with a dem...</td>\n",
       "      <td>{'neg': 0.12, 'neu': 0.775, 'pos': 0.105, 'com...</td>\n",
       "      <td>-0.8618</td>\n",
       "      <td>neg</td>\n",
       "    </tr>\n",
       "    <tr>\n",
       "      <th>2</th>\n",
       "      <td>pos</td>\n",
       "      <td>this has been an extraordinary year for austra...</td>\n",
       "      <td>{'neg': 0.068, 'neu': 0.781, 'pos': 0.15, 'com...</td>\n",
       "      <td>0.9951</td>\n",
       "      <td>pos</td>\n",
       "    </tr>\n",
       "    <tr>\n",
       "      <th>3</th>\n",
       "      <td>pos</td>\n",
       "      <td>according to hollywood movies made in last few...</td>\n",
       "      <td>{'neg': 0.071, 'neu': 0.782, 'pos': 0.147, 'co...</td>\n",
       "      <td>0.9972</td>\n",
       "      <td>pos</td>\n",
       "    </tr>\n",
       "    <tr>\n",
       "      <th>4</th>\n",
       "      <td>neg</td>\n",
       "      <td>my first press screening of 1998 and already i...</td>\n",
       "      <td>{'neg': 0.091, 'neu': 0.817, 'pos': 0.093, 'co...</td>\n",
       "      <td>-0.2484</td>\n",
       "      <td>neg</td>\n",
       "    </tr>\n",
       "    <tr>\n",
       "      <th>...</th>\n",
       "      <td>...</td>\n",
       "      <td>...</td>\n",
       "      <td>...</td>\n",
       "      <td>...</td>\n",
       "      <td>...</td>\n",
       "    </tr>\n",
       "    <tr>\n",
       "      <th>1995</th>\n",
       "      <td>pos</td>\n",
       "      <td>i like movies with albert brooks , and i reall...</td>\n",
       "      <td>{'neg': 0.073, 'neu': 0.763, 'pos': 0.164, 'co...</td>\n",
       "      <td>0.9991</td>\n",
       "      <td>pos</td>\n",
       "    </tr>\n",
       "    <tr>\n",
       "      <th>1996</th>\n",
       "      <td>pos</td>\n",
       "      <td>it might surprise some to know that joel and e...</td>\n",
       "      <td>{'neg': 0.238, 'neu': 0.688, 'pos': 0.074, 'co...</td>\n",
       "      <td>-0.9993</td>\n",
       "      <td>neg</td>\n",
       "    </tr>\n",
       "    <tr>\n",
       "      <th>1997</th>\n",
       "      <td>pos</td>\n",
       "      <td>the verdict : spine-chilling drama from horror...</td>\n",
       "      <td>{'neg': 0.15, 'neu': 0.702, 'pos': 0.147, 'com...</td>\n",
       "      <td>-0.5966</td>\n",
       "      <td>neg</td>\n",
       "    </tr>\n",
       "    <tr>\n",
       "      <th>1998</th>\n",
       "      <td>pos</td>\n",
       "      <td>i want to correct what i wrote in a former ret...</td>\n",
       "      <td>{'neg': 0.131, 'neu': 0.71, 'pos': 0.16, 'comp...</td>\n",
       "      <td>0.9387</td>\n",
       "      <td>pos</td>\n",
       "    </tr>\n",
       "    <tr>\n",
       "      <th>1999</th>\n",
       "      <td>pos</td>\n",
       "      <td>a couple of months ago , when i first download...</td>\n",
       "      <td>{'neg': 0.071, 'neu': 0.741, 'pos': 0.189, 'co...</td>\n",
       "      <td>0.9982</td>\n",
       "      <td>pos</td>\n",
       "    </tr>\n",
       "  </tbody>\n",
       "</table>\n",
       "<p>1938 rows × 5 columns</p>\n",
       "</div>"
      ],
      "text/plain": [
       "     label                                             review  \\\n",
       "0      neg  how do films like mouse hunt get into theatres...   \n",
       "1      neg  some talented actresses are blessed with a dem...   \n",
       "2      pos  this has been an extraordinary year for austra...   \n",
       "3      pos  according to hollywood movies made in last few...   \n",
       "4      neg  my first press screening of 1998 and already i...   \n",
       "...    ...                                                ...   \n",
       "1995   pos  i like movies with albert brooks , and i reall...   \n",
       "1996   pos  it might surprise some to know that joel and e...   \n",
       "1997   pos  the verdict : spine-chilling drama from horror...   \n",
       "1998   pos  i want to correct what i wrote in a former ret...   \n",
       "1999   pos  a couple of months ago , when i first download...   \n",
       "\n",
       "                                                 scores  compound comp_score  \n",
       "0     {'neg': 0.121, 'neu': 0.778, 'pos': 0.101, 'co...   -0.9125        neg  \n",
       "1     {'neg': 0.12, 'neu': 0.775, 'pos': 0.105, 'com...   -0.8618        neg  \n",
       "2     {'neg': 0.068, 'neu': 0.781, 'pos': 0.15, 'com...    0.9951        pos  \n",
       "3     {'neg': 0.071, 'neu': 0.782, 'pos': 0.147, 'co...    0.9972        pos  \n",
       "4     {'neg': 0.091, 'neu': 0.817, 'pos': 0.093, 'co...   -0.2484        neg  \n",
       "...                                                 ...       ...        ...  \n",
       "1995  {'neg': 0.073, 'neu': 0.763, 'pos': 0.164, 'co...    0.9991        pos  \n",
       "1996  {'neg': 0.238, 'neu': 0.688, 'pos': 0.074, 'co...   -0.9993        neg  \n",
       "1997  {'neg': 0.15, 'neu': 0.702, 'pos': 0.147, 'com...   -0.5966        neg  \n",
       "1998  {'neg': 0.131, 'neu': 0.71, 'pos': 0.16, 'comp...    0.9387        pos  \n",
       "1999  {'neg': 0.071, 'neu': 0.741, 'pos': 0.189, 'co...    0.9982        pos  \n",
       "\n",
       "[1938 rows x 5 columns]"
      ]
     },
     "execution_count": 34,
     "metadata": {},
     "output_type": "execute_result"
    }
   ],
   "source": [
    "df"
   ]
  },
  {
   "cell_type": "code",
   "execution_count": 35,
   "id": "0d03d5cc-ace1-4576-ae57-80e7c43ba0d2",
   "metadata": {},
   "outputs": [],
   "source": [
    "from sklearn.metrics import accuracy_score,classification_report,confusion_matrix"
   ]
  },
  {
   "cell_type": "code",
   "execution_count": 38,
   "id": "0989377d-c254-4bcb-b5cb-523c2814ab05",
   "metadata": {},
   "outputs": [
    {
     "data": {
      "text/plain": [
       "0.6357069143446853"
      ]
     },
     "execution_count": 38,
     "metadata": {},
     "output_type": "execute_result"
    }
   ],
   "source": [
    "accuracy_score(df['label'],df['comp_score'])"
   ]
  },
  {
   "cell_type": "code",
   "execution_count": 40,
   "id": "9b00d4c8-e84e-4d67-b08c-23eb55b5a0da",
   "metadata": {},
   "outputs": [
    {
     "name": "stdout",
     "output_type": "stream",
     "text": [
      "              precision    recall  f1-score   support\n",
      "\n",
      "         neg       0.72      0.44      0.55       969\n",
      "         pos       0.60      0.83      0.70       969\n",
      "\n",
      "    accuracy                           0.64      1938\n",
      "   macro avg       0.66      0.64      0.62      1938\n",
      "weighted avg       0.66      0.64      0.62      1938\n",
      "\n"
     ]
    }
   ],
   "source": [
    "print(classification_report(df['label'],df['comp_score']))"
   ]
  },
  {
   "cell_type": "code",
   "execution_count": 41,
   "id": "28431c39-74b4-4202-b223-497bc5374ba9",
   "metadata": {},
   "outputs": [
    {
     "name": "stdout",
     "output_type": "stream",
     "text": [
      "[[427 542]\n",
      " [164 805]]\n"
     ]
    }
   ],
   "source": [
    "print(confusion_matrix(df['label'],df['comp_score']))"
   ]
  },
  {
   "cell_type": "code",
   "execution_count": null,
   "id": "ff4ea406-1ab2-431e-bfa0-dad8dbf732de",
   "metadata": {},
   "outputs": [],
   "source": [
    "! git add movie_sentiment_analysi.ipynb\n",
    "! git commit -m \"02:03/30-01-2022\"\n",
    "! git push origin main"
   ]
  }
 ],
 "metadata": {
  "kernelspec": {
   "display_name": "Python [conda env:nlpenv] *",
   "language": "python",
   "name": "conda-env-nlpenv-py"
  },
  "language_info": {
   "codemirror_mode": {
    "name": "ipython",
    "version": 3
   },
   "file_extension": ".py",
   "mimetype": "text/x-python",
   "name": "python",
   "nbconvert_exporter": "python",
   "pygments_lexer": "ipython3",
   "version": "3.7.11"
  }
 },
 "nbformat": 4,
 "nbformat_minor": 5
}
