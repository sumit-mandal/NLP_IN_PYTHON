{
 "cells": [
  {
   "cell_type": "code",
   "execution_count": 1,
   "id": "723d9366-877c-4937-a1d8-9a0be91cd163",
   "metadata": {},
   "outputs": [],
   "source": [
    "import spacy\n",
    "nlp = spacy.load('en_core_web_lg')"
   ]
  },
  {
   "cell_type": "code",
   "execution_count": 5,
   "id": "a02c7e8f-66a5-4790-a3e2-7a224ba72037",
   "metadata": {},
   "outputs": [
    {
     "data": {
      "text/plain": [
       "(300,)"
      ]
     },
     "execution_count": 5,
     "metadata": {},
     "output_type": "execute_result"
    }
   ],
   "source": [
    "nlp(u'Lion').vector.shape"
   ]
  },
  {
   "cell_type": "code",
   "execution_count": 7,
   "id": "73a31566-8899-4f58-875a-f8555b630a3a",
   "metadata": {},
   "outputs": [
    {
     "data": {
      "text/plain": [
       "array([-2.09217995e-01, -2.78227981e-02, -3.57064009e-02,  1.55218393e-01,\n",
       "       -1.28050027e-02,  1.31627038e-01, -1.99465990e-01,  4.75811996e-02,\n",
       "        1.26798794e-01,  1.64792800e+00, -3.57592016e-01, -1.39875397e-01,\n",
       "       -1.26122087e-02, -2.02728346e-01, -2.25237608e-01,  2.15431936e-02,\n",
       "        7.78958052e-02,  9.29676056e-01, -2.75549982e-02, -3.71005982e-01,\n",
       "       -1.42800003e-01, -3.66641544e-02, -1.07376035e-02, -1.84352830e-01,\n",
       "        2.29006782e-02, -5.17717972e-02, -2.78652012e-01, -1.19738199e-01,\n",
       "        5.10960072e-03, -2.85990000e-01, -1.58261746e-01,  2.96241999e-01,\n",
       "        1.09597601e-01, -4.18331996e-02,  1.87256075e-02, -1.03439607e-01,\n",
       "       -5.10879979e-02, -3.51091917e-03, -6.81461841e-02, -2.05657601e-01,\n",
       "        1.66347414e-01, -9.31599736e-03, -4.61134054e-02, -1.05457589e-01,\n",
       "        2.31313989e-01,  1.80005193e-01, -2.06444815e-01, -1.37050152e-02,\n",
       "        1.70106202e-01, -2.19812002e-02, -2.14003205e-01,  1.07415602e-01,\n",
       "       -2.80592032e-02, -5.23634031e-02, -4.86331955e-02, -1.04047179e-01,\n",
       "        1.27018047e-02,  2.02107817e-01, -1.18217587e-01, -1.51981995e-01,\n",
       "        5.12168184e-02,  5.64177930e-02,  5.44355996e-02,  5.15560023e-02,\n",
       "        5.14240041e-02, -1.37740612e-01, -8.45800620e-03, -1.13289997e-01,\n",
       "        1.34828404e-01, -2.25100014e-02,  1.19754001e-01,  5.12372032e-02,\n",
       "        5.40098026e-02,  7.36430064e-02, -1.59269981e-02, -2.37861007e-01,\n",
       "       -7.90134817e-02, -1.30640596e-01,  4.45272028e-02, -4.98013981e-02,\n",
       "       -7.30358064e-02,  1.80923387e-01,  4.17133979e-02,  4.45965007e-02,\n",
       "        1.77781999e-01,  1.66720040e-02,  6.30389988e-01,  4.30720389e-01,\n",
       "        2.10017413e-01,  1.68576598e-01,  7.29599595e-03,  1.58338398e-01,\n",
       "        3.79000008e-02, -3.46915185e-01,  1.33294016e-01, -9.09054056e-02,\n",
       "       -6.90027997e-02, -5.71460137e-03,  6.47759885e-02, -2.06994608e-01,\n",
       "        1.64740205e-01, -2.13680025e-02, -1.30543396e-01, -3.02743949e-02,\n",
       "       -1.03020016e-02, -6.46848023e-01,  1.80351987e-01, -9.54739973e-02,\n",
       "       -1.40800001e-02, -3.42049934e-02, -4.12111953e-02, -1.11505605e-01,\n",
       "        1.27132609e-01, -1.88302785e-01,  1.13260604e-01,  1.80767015e-01,\n",
       "        6.53811991e-02, -1.58561952e-02,  9.68780071e-02,  7.01044053e-02,\n",
       "        4.83391993e-02, -1.63396388e-01, -4.51015905e-02, -9.61597934e-02,\n",
       "       -3.00761998e-01,  1.63111001e-01,  4.52036038e-02, -7.97460005e-02,\n",
       "       -1.00108802e-01, -5.79720028e-02, -1.80559454e-03, -8.24856013e-02,\n",
       "       -1.32837012e-01,  7.58986026e-02,  1.25125393e-01, -1.17681786e-01,\n",
       "       -2.02512026e-01, -5.02933972e-02, -3.09894979e-02, -1.96231812e-01,\n",
       "       -2.05938005e+00, -1.78128034e-02,  1.31141797e-01,  5.38920052e-02,\n",
       "        2.48921394e-01, -8.28451961e-02,  2.29120012e-02,  4.11577933e-02,\n",
       "        6.28991947e-02,  1.26971409e-01,  3.54279988e-02, -1.65512592e-01,\n",
       "        1.54437393e-01, -8.91011953e-02, -2.38956213e-01,  3.74409966e-02,\n",
       "       -1.47978395e-01,  1.23184405e-01,  7.47255981e-02, -8.21532011e-02,\n",
       "       -3.02814040e-02, -1.99475795e-01, -2.98164397e-01, -5.18049970e-02,\n",
       "       -5.98729961e-02, -1.95260614e-01, -1.14224993e-01, -7.07461983e-02,\n",
       "       -1.35402009e-01, -1.59228414e-01,  1.33558795e-01,  1.44477993e-01,\n",
       "       -2.50075996e-01, -2.07789987e-01, -3.69598001e-01, -1.38345197e-01,\n",
       "        2.83456177e-01, -4.93402767e-04, -2.13945992e-02,  1.83038004e-02,\n",
       "       -3.45086008e-02, -1.53184995e-01, -2.21591994e-01, -1.14851996e-01,\n",
       "        9.88069996e-02,  1.29306391e-01, -5.40879965e-02, -4.65750024e-02,\n",
       "       -4.59119631e-03,  1.25648379e-02,  2.73273796e-01,  3.86317968e-02,\n",
       "        6.49093613e-02,  3.70982066e-02,  1.26923593e-02,  1.85716420e-01,\n",
       "        1.69222593e-01,  1.06119812e-01,  1.43199565e-03, -7.52920061e-02,\n",
       "       -1.51146010e-01,  4.95879985e-02, -2.87192404e-01, -2.74599995e-02,\n",
       "        2.10097998e-01,  1.37594968e-01, -1.26467999e-02, -1.47451401e-01,\n",
       "       -6.98073283e-02,  1.16517963e-02,  7.65941963e-02,  8.24979991e-02,\n",
       "       -3.28646004e-02,  2.22982407e-01,  8.53662044e-02,  1.13203190e-01,\n",
       "       -3.06712002e-01,  6.65521994e-02, -2.42485963e-02,  1.85453802e-01,\n",
       "        6.33899868e-03,  2.36580381e-03, -6.98355958e-02,  9.46911126e-02,\n",
       "       -2.32161760e-01, -1.91601396e-01,  2.09780186e-01,  1.91669196e-01,\n",
       "        2.42458023e-02,  4.20044035e-01, -1.50683997e-02,  4.16760286e-03,\n",
       "       -7.33660609e-02,  5.19229956e-02, -1.21735949e-02, -8.69527981e-02,\n",
       "       -1.26489595e-01, -6.72094822e-02,  1.63832814e-01,  2.75269568e-01,\n",
       "       -1.64249986e-01, -1.52959794e-01, -5.64128049e-02, -9.03348029e-02,\n",
       "        3.59305963e-02, -1.62403792e-01, -9.81536135e-02,  3.03588063e-02,\n",
       "       -2.10355401e-01,  5.90659976e-02, -3.81862000e-02, -1.31029800e-01,\n",
       "       -1.98952004e-01,  1.02112450e-01,  1.69432998e-01,  4.52830084e-02,\n",
       "        2.06268996e-01,  1.30002588e-01,  3.64079997e-02,  1.67501979e-02,\n",
       "        1.52415991e-01,  8.69902000e-02,  1.43315807e-01, -1.03890002e-01,\n",
       "        2.32943982e-01, -2.00447604e-01,  8.02273974e-02, -4.50324044e-02,\n",
       "       -2.33428001e-01,  9.64580029e-02, -8.72388482e-04,  2.65751779e-01,\n",
       "       -4.15487401e-02, -1.38139397e-01, -3.27680036e-02, -4.31547984e-02,\n",
       "        3.97300012e-02,  1.05935797e-01,  9.52792179e-04,  3.66709009e-02,\n",
       "        1.43723994e-01,  9.49178040e-02, -1.12830400e-01,  1.76364794e-01,\n",
       "       -2.80858018e-02, -3.65898088e-02,  7.58539960e-02,  7.08954111e-02,\n",
       "       -7.30042011e-02,  1.27999904e-02, -2.66412795e-01,  1.81497976e-01,\n",
       "       -2.59018000e-02, -1.16812006e-01, -7.90375918e-02,  2.10512038e-02,\n",
       "        2.83426046e-02,  4.26702015e-02, -1.21463798e-01, -1.45020094e-02],\n",
       "      dtype=float32)"
      ]
     },
     "execution_count": 7,
     "metadata": {},
     "output_type": "execute_result"
    }
   ],
   "source": [
    "nlp(u'The quick brown fox jumped').vector"
   ]
  },
  {
   "cell_type": "code",
   "execution_count": 8,
   "id": "68cf8ebb-c1d1-4e2b-9962-6ffe7afd1d34",
   "metadata": {},
   "outputs": [
    {
     "name": "stdout",
     "output_type": "stream",
     "text": [
      "lion lion 1.0\n",
      "lion cat 0.5265438\n",
      "lion pet 0.39923766\n",
      "cat lion 0.5265438\n",
      "cat cat 1.0\n",
      "cat pet 0.7505457\n",
      "pet lion 0.39923766\n",
      "pet cat 0.7505457\n",
      "pet pet 1.0\n"
     ]
    }
   ],
   "source": [
    "tokens = nlp(u'lion cat pet')\n",
    "\n",
    "for token1 in tokens:\n",
    "    for token2 in tokens:\n",
    "        print(token1.text,token2.text,token1.similarity(token2))"
   ]
  },
  {
   "cell_type": "code",
   "execution_count": 11,
   "id": "82e0cc1b-61a3-441d-81b7-dbfd1cbd2645",
   "metadata": {},
   "outputs": [
    {
     "name": "stdout",
     "output_type": "stream",
     "text": [
      "like like 1.0\n",
      "like love 0.657904\n",
      "like hate 0.65746516\n",
      "love like 0.657904\n",
      "love love 1.0\n",
      "love hate 0.63930994\n",
      "hate like 0.65746516\n",
      "hate love 0.63930994\n",
      "hate hate 1.0\n"
     ]
    }
   ],
   "source": [
    "tokens = nlp(u'like love hate')\n",
    "\n",
    "for token1 in tokens:\n",
    "    for token2 in tokens:\n",
    "        print(token1.text,token2.text,token1.similarity(token2))"
   ]
  },
  {
   "cell_type": "code",
   "execution_count": 12,
   "id": "5ba76306-fb65-4dc7-b644-49e24ae0561f",
   "metadata": {},
   "outputs": [
    {
     "data": {
      "text/plain": [
       "684830"
      ]
     },
     "execution_count": 12,
     "metadata": {},
     "output_type": "execute_result"
    }
   ],
   "source": [
    "len(nlp.vocab.vectors)"
   ]
  },
  {
   "cell_type": "markdown",
   "id": "9a25fbbf-84fd-4d7c-8db7-58f68d3f91f9",
   "metadata": {},
   "source": [
    "### Add the name that is not in vocab"
   ]
  },
  {
   "cell_type": "code",
   "execution_count": 38,
   "id": "cd8f2000-7613-4829-98cf-03ce60c9640b",
   "metadata": {},
   "outputs": [
    {
     "name": "stdout",
     "output_type": "stream",
     "text": [
      "dog True 7.0336733 False\n",
      "cat True 6.6808186 False\n",
      "nargle False 0.0 True\n"
     ]
    }
   ],
   "source": [
    "tokens = nlp(u\"dog cat nargle\")\n",
    "\n",
    "for token in tokens:\n",
    "    print(token.text,token.has_vector,token.vector_norm,token.is_oov) #i#oov means out of vocabulary\n"
   ]
  },
  {
   "cell_type": "markdown",
   "id": "d82ce3c3-f97f-440b-b31f-c2930c93522c",
   "metadata": {},
   "source": [
    "### Vector arithematic"
   ]
  },
  {
   "cell_type": "code",
   "execution_count": 57,
   "id": "f803613a-286f-4c1d-bf86-b9b9592bdfcd",
   "metadata": {},
   "outputs": [],
   "source": [
    "from scipy import spatial\n",
    "\n",
    "cosine_similarity = lambda x, y: 1 - spatial.distance.cosine(x, y)\n",
    "\n"
   ]
  },
  {
   "cell_type": "code",
   "execution_count": 62,
   "id": "8e1ac88b-4a32-4b57-94e7-f54d707701ee",
   "metadata": {},
   "outputs": [],
   "source": [
    "king = nlp.vocab['king'].vector\n",
    "man = nlp.vocab['man'].vector\n",
    "woman = nlp.vocab['woman'].vector\n"
   ]
  },
  {
   "cell_type": "code",
   "execution_count": 63,
   "id": "a2a3746b-2eb4-4b42-9904-beb4442b878d",
   "metadata": {},
   "outputs": [],
   "source": [
    "# King - man + woman ---> NEW_VECTOR similar to Queen,princess,highness\n",
    "new_vector = king - man + woman\n",
    "computed_similarities = []\n",
    "\n",
    "# For all word in my vocab\n",
    "for word in nlp.vocab:\n",
    "    # Ignore words without vectors and mixed-case words:\n",
    "    if word.has_vector:\n",
    "        if word.is_lower:\n",
    "            if word.is_alpha:\n",
    "                similarity = cosine_similarity(new_vector,word.vector)\n",
    "                computed_similarities.append((word,similarity))\n",
    "    \n"
   ]
  },
  {
   "cell_type": "code",
   "execution_count": 66,
   "id": "a407155c-0e85-4cab-bdd9-f3c08f8aaff7",
   "metadata": {},
   "outputs": [],
   "source": [
    "computed_similarities = sorted(computed_similarities,key = lambda item:-item[1])"
   ]
  },
  {
   "cell_type": "code",
   "execution_count": 68,
   "id": "224eb3dc-1367-42cc-9b29-271c9174e71a",
   "metadata": {},
   "outputs": [
    {
     "name": "stdout",
     "output_type": "stream",
     "text": [
      "['king', 'woman', 'she', 'lion', 'who', 'fox', 'brown', 'when', 'dare', 'cat']\n"
     ]
    }
   ],
   "source": [
    "print([t[0].text for t in computed_similarities[:10]])"
   ]
  },
  {
   "cell_type": "code",
   "execution_count": null,
   "id": "c4bb887d-d286-4af9-8016-d5dd4612f2d2",
   "metadata": {},
   "outputs": [],
   "source": [
    "! git add Word_vector.ipynb\n",
    "! git commit -m \"16:08/29-01-2022\"\n",
    "! git push origin main"
   ]
  }
 ],
 "metadata": {
  "kernelspec": {
   "display_name": "Python [conda env:nlpenv] *",
   "language": "python",
   "name": "conda-env-nlpenv-py"
  },
  "language_info": {
   "codemirror_mode": {
    "name": "ipython",
    "version": 3
   },
   "file_extension": ".py",
   "mimetype": "text/x-python",
   "name": "python",
   "nbconvert_exporter": "python",
   "pygments_lexer": "ipython3",
   "version": "3.7.11"
  }
 },
 "nbformat": 4,
 "nbformat_minor": 5
}
